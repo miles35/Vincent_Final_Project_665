{
 "cells": [
  {
   "cell_type": "markdown",
   "metadata": {
    "slideshow": {
     "slide_type": "slide"
    }
   },
   "source": [
    "# Miles Vincent 2019 Final Project "
   ]
  },
  {
   "cell_type": "markdown",
   "metadata": {
    "slideshow": {
     "slide_type": "slide"
    }
   },
   "source": [
    "# I started a new workbook instead of going off my midterm"
   ]
  },
  {
   "cell_type": "markdown",
   "metadata": {
    "slideshow": {
     "slide_type": "-"
    }
   },
   "source": [
    "### Most of these packages came from my midterm but some come from the homeworks "
   ]
  },
  {
   "cell_type": "code",
   "execution_count": 599,
   "metadata": {
    "slideshow": {
     "slide_type": "slide"
    }
   },
   "outputs": [],
   "source": [
    "import pandas as pd\n",
    "import numpy as np\n",
    "import seaborn as sns\n",
    "from scipy import stats\n",
    "import matplotlib.pyplot as plt\n",
    "%matplotlib inline\n",
    "\n",
    "import sklearn.linear_model as lm\n",
    "from sklearn.metrics import mean_squared_error\n",
    "from sklearn.metrics import explained_variance_score\n",
    "\n",
    "import statsmodels.api as sm\n",
    "from statsmodels.formula.api import ols\n",
    "\n",
    "import sklearn.linear_model as lm\n",
    "from sklearn.metrics import mean_squared_error\n",
    "from sklearn.metrics import explained_variance_score\n",
    "from sklearn.feature_selection import SelectKBest\n",
    "import statsmodels.formula.api as sm\n",
    "from sklearn.feature_selection import f_regression\n",
    "from sklearn.feature_selection import RFE\n",
    "\n",
    "from sklearn.ensemble import RandomForestRegressor\n",
    "from sklearn.datasets import make_regression\n",
    "\n",
    "# Classifiers\n",
    "#import decisiontreeclassifier\n",
    "from sklearn import tree\n",
    "from sklearn.tree import DecisionTreeClassifier\n",
    "#import logisticregression classifier\n",
    "from sklearn.linear_model import LogisticRegression\n",
    "import statsmodels.api as sm\n",
    "#import knn classifier\n",
    "from sklearn.neighbors import KNeighborsClassifier\n",
    "\n",
    "#for validating your classification model\n",
    "from sklearn.model_selection import train_test_split\n",
    "from sklearn.model_selection import cross_val_score\n",
    "from sklearn import metrics\n",
    "from sklearn.metrics import roc_curve, auc\n",
    "from sklearn.metrics import roc_auc_score\n",
    "\n",
    "# feature selection\n",
    "from sklearn.feature_selection import RFE\n",
    "from sklearn.ensemble import ExtraTreesClassifier\n",
    "from sklearn.feature_selection import SelectKBest\n",
    "from sklearn.feature_selection import chi2\n",
    "\n",
    "# grid search\n",
    "from sklearn.model_selection import GridSearchCV\n",
    "import sklearn.linear_model as lm\n",
    "from sklearn.metrics import mean_squared_error\n",
    "from sklearn.metrics import explained_variance_score\n",
    "from sklearn.feature_selection import f_regression"
   ]
  },
  {
   "cell_type": "markdown",
   "metadata": {
    "slideshow": {
     "slide_type": "-"
    }
   },
   "source": [
    "### Bringing in the data "
   ]
  },
  {
   "cell_type": "code",
   "execution_count": 600,
   "metadata": {
    "slideshow": {
     "slide_type": "-"
    }
   },
   "outputs": [
    {
     "data": {
      "text/html": [
       "<div>\n",
       "<style scoped>\n",
       "    .dataframe tbody tr th:only-of-type {\n",
       "        vertical-align: middle;\n",
       "    }\n",
       "\n",
       "    .dataframe tbody tr th {\n",
       "        vertical-align: top;\n",
       "    }\n",
       "\n",
       "    .dataframe thead th {\n",
       "        text-align: right;\n",
       "    }\n",
       "</style>\n",
       "<table border=\"1\" class=\"dataframe\">\n",
       "  <thead>\n",
       "    <tr style=\"text-align: right;\">\n",
       "      <th></th>\n",
       "      <th>color</th>\n",
       "      <th>director_name</th>\n",
       "      <th>num_critic_for_reviews</th>\n",
       "      <th>duration</th>\n",
       "      <th>director_facebook_likes</th>\n",
       "      <th>actor_3_facebook_likes</th>\n",
       "      <th>actor_2_name</th>\n",
       "      <th>actor_1_facebook_likes</th>\n",
       "      <th>gross</th>\n",
       "      <th>genres</th>\n",
       "      <th>...</th>\n",
       "      <th>num_user_for_reviews</th>\n",
       "      <th>language</th>\n",
       "      <th>country</th>\n",
       "      <th>content_rating</th>\n",
       "      <th>budget</th>\n",
       "      <th>title_year</th>\n",
       "      <th>actor_2_facebook_likes</th>\n",
       "      <th>imdb_score</th>\n",
       "      <th>aspect_ratio</th>\n",
       "      <th>movie_facebook_likes</th>\n",
       "    </tr>\n",
       "  </thead>\n",
       "  <tbody>\n",
       "    <tr>\n",
       "      <th>0</th>\n",
       "      <td>Color</td>\n",
       "      <td>James Cameron</td>\n",
       "      <td>723.0</td>\n",
       "      <td>178.0</td>\n",
       "      <td>0.0</td>\n",
       "      <td>855.0</td>\n",
       "      <td>Joel David Moore</td>\n",
       "      <td>1000.0</td>\n",
       "      <td>760505847.0</td>\n",
       "      <td>Action|Adventure|Fantasy|Sci-Fi</td>\n",
       "      <td>...</td>\n",
       "      <td>3054.0</td>\n",
       "      <td>English</td>\n",
       "      <td>USA</td>\n",
       "      <td>PG-13</td>\n",
       "      <td>237000000.0</td>\n",
       "      <td>2009.0</td>\n",
       "      <td>936.0</td>\n",
       "      <td>7.9</td>\n",
       "      <td>1.78</td>\n",
       "      <td>33000</td>\n",
       "    </tr>\n",
       "    <tr>\n",
       "      <th>1</th>\n",
       "      <td>Color</td>\n",
       "      <td>Gore Verbinski</td>\n",
       "      <td>302.0</td>\n",
       "      <td>169.0</td>\n",
       "      <td>563.0</td>\n",
       "      <td>1000.0</td>\n",
       "      <td>Orlando Bloom</td>\n",
       "      <td>40000.0</td>\n",
       "      <td>309404152.0</td>\n",
       "      <td>Action|Adventure|Fantasy</td>\n",
       "      <td>...</td>\n",
       "      <td>1238.0</td>\n",
       "      <td>English</td>\n",
       "      <td>USA</td>\n",
       "      <td>PG-13</td>\n",
       "      <td>300000000.0</td>\n",
       "      <td>2007.0</td>\n",
       "      <td>5000.0</td>\n",
       "      <td>7.1</td>\n",
       "      <td>2.35</td>\n",
       "      <td>0</td>\n",
       "    </tr>\n",
       "  </tbody>\n",
       "</table>\n",
       "<p>2 rows × 28 columns</p>\n",
       "</div>"
      ],
      "text/plain": [
       "   color   director_name  num_critic_for_reviews  duration  \\\n",
       "0  Color   James Cameron                   723.0     178.0   \n",
       "1  Color  Gore Verbinski                   302.0     169.0   \n",
       "\n",
       "   director_facebook_likes  actor_3_facebook_likes      actor_2_name  \\\n",
       "0                      0.0                   855.0  Joel David Moore   \n",
       "1                    563.0                  1000.0     Orlando Bloom   \n",
       "\n",
       "   actor_1_facebook_likes        gross                           genres  ...  \\\n",
       "0                  1000.0  760505847.0  Action|Adventure|Fantasy|Sci-Fi  ...   \n",
       "1                 40000.0  309404152.0         Action|Adventure|Fantasy  ...   \n",
       "\n",
       "  num_user_for_reviews language  country  content_rating       budget  \\\n",
       "0               3054.0  English      USA           PG-13  237000000.0   \n",
       "1               1238.0  English      USA           PG-13  300000000.0   \n",
       "\n",
       "   title_year actor_2_facebook_likes imdb_score  aspect_ratio  \\\n",
       "0      2009.0                  936.0        7.9          1.78   \n",
       "1      2007.0                 5000.0        7.1          2.35   \n",
       "\n",
       "  movie_facebook_likes  \n",
       "0                33000  \n",
       "1                    0  \n",
       "\n",
       "[2 rows x 28 columns]"
      ]
     },
     "execution_count": 600,
     "metadata": {},
     "output_type": "execute_result"
    }
   ],
   "source": [
    "data = pd.read_csv(\"/Users/milesvincent/Desktop/movie_metadata.csv\")\n",
    "data.head(2)"
   ]
  },
  {
   "cell_type": "markdown",
   "metadata": {
    "slideshow": {
     "slide_type": "slide"
    }
   },
   "source": [
    "## Cleaning the data"
   ]
  },
  {
   "cell_type": "code",
   "execution_count": 601,
   "metadata": {
    "slideshow": {
     "slide_type": "-"
    }
   },
   "outputs": [],
   "source": [
    "# We create an array of all of the columns that we feel are important to keep. \n",
    "# We then set 'English' and 'USA' as a filler for null values in the dataframe. \n",
    "\n",
    "# This cleaning code is courtesy of https://github.com/tousif101/MoviePredictor/blob/master/movie_data_clean.py\n",
    "import random\n",
    "\n",
    "data = pd.read_csv(\"/Users/milesvincent/Desktop/movie_metadata.csv\", index_col=False)\n",
    "\n",
    "keep_col = ['director_name', 'num_critic_for_reviews', 'duration', 'director_facebook_likes',\n",
    "            'actor_1_facebook_likes', 'gross', 'genres', 'actor_1_name', 'movie_title',\n",
    "            'num_voted_users', 'cast_total_facebook_likes', 'num_user_for_reviews', 'language',\n",
    "            'country', 'content_rating', 'budget', 'title_year', 'imdb_score', 'movie_facebook_likes']\n",
    "\n",
    "new_file = data[keep_col]\n",
    "\n",
    "new_data = new_file.fillna(new_file.mean())\n",
    "\n",
    "new_data = new_data[new_data.language == 'English']\n",
    "new_data = new_data[new_data.country == 'USA']\n",
    "\n",
    "new_data = new_data[new_data.content_rating != 'TV-14']\n",
    "new_data = new_data[new_data.content_rating != 'TV-PG']\n",
    "new_data = new_data[new_data.content_rating != 'TV-MA']\n",
    "new_data = new_data[new_data.content_rating != 'TV-G']\n",
    "new_data = new_data[new_data.content_rating != 'TV-Y7']\n",
    "new_data = new_data[new_data.content_rating != 'Passed']\n",
    "new_data = new_data[new_data.content_rating != 'Approved']\n",
    "new_data = new_data[new_data.content_rating != 'Not Rated']\n",
    "new_data = new_data[new_data.content_rating != 'Unrated']\n",
    "new_data = new_data[new_data.content_rating != 'NC-17']\n",
    "new_data = new_data[pd.notnull(new_data['content_rating'])]\n",
    "\n",
    "new_data = new_data.reset_index()\n",
    "\n",
    "for i in range(0, len(new_data['genres'])):\n",
    "    record = new_data.loc[i, 'genres']\n",
    "    splitVal = record.split('|')\n",
    "    val = random.choice(splitVal)\n",
    "    new_data.iloc[i, new_data.columns.get_loc('genres')] = val\n",
    "\n",
    "new_data = new_data.reset_index()\n",
    "\n",
    "cleaned_data = new_data\n",
    "\n",
    "cleaned_data.to_csv(\"cleaned_movie_metadata.csv\",index =False)\n",
    "df = cleaned_data"
   ]
  },
  {
   "cell_type": "markdown",
   "metadata": {},
   "source": [
    "## Checking to make sure that data is all the same amount of variables"
   ]
  },
  {
   "cell_type": "code",
   "execution_count": 602,
   "metadata": {
    "scrolled": true,
    "slideshow": {
     "slide_type": "-"
    }
   },
   "outputs": [
    {
     "name": "stdout",
     "output_type": "stream",
     "text": [
      "<class 'pandas.core.frame.DataFrame'>\n",
      "RangeIndex: 3422 entries, 0 to 3421\n",
      "Data columns (total 21 columns):\n",
      "level_0                      3422 non-null int64\n",
      "index                        3422 non-null int64\n",
      "director_name                3422 non-null object\n",
      "num_critic_for_reviews       3422 non-null float64\n",
      "duration                     3422 non-null float64\n",
      "director_facebook_likes      3422 non-null float64\n",
      "actor_1_facebook_likes       3422 non-null float64\n",
      "gross                        3422 non-null float64\n",
      "genres                       3422 non-null object\n",
      "actor_1_name                 3422 non-null object\n",
      "movie_title                  3422 non-null object\n",
      "num_voted_users              3422 non-null int64\n",
      "cast_total_facebook_likes    3422 non-null int64\n",
      "num_user_for_reviews         3422 non-null float64\n",
      "language                     3422 non-null object\n",
      "country                      3422 non-null object\n",
      "content_rating               3422 non-null object\n",
      "budget                       3422 non-null float64\n",
      "title_year                   3422 non-null float64\n",
      "imdb_score                   3422 non-null float64\n",
      "movie_facebook_likes         3422 non-null int64\n",
      "dtypes: float64(9), int64(5), object(7)\n",
      "memory usage: 561.5+ KB\n"
     ]
    }
   ],
   "source": [
    "df.info()\n"
   ]
  },
  {
   "cell_type": "code",
   "execution_count": null,
   "metadata": {},
   "outputs": [],
   "source": []
  },
  {
   "cell_type": "code",
   "execution_count": 603,
   "metadata": {
    "slideshow": {
     "slide_type": "-"
    }
   },
   "outputs": [
    {
     "name": "stdout",
     "output_type": "stream",
     "text": [
      "<class 'pandas.core.frame.DataFrame'>\n",
      "Int64Index: 3422 entries, 0 to 3421\n",
      "Data columns (total 21 columns):\n",
      "level_0                      3422 non-null int64\n",
      "index                        3422 non-null int64\n",
      "director_name                3422 non-null object\n",
      "num_critic_for_reviews       3422 non-null float64\n",
      "duration                     3422 non-null float64\n",
      "director_facebook_likes      3422 non-null float64\n",
      "actor_1_facebook_likes       3422 non-null float64\n",
      "gross                        3422 non-null float64\n",
      "genres                       3422 non-null object\n",
      "actor_1_name                 3422 non-null object\n",
      "movie_title                  3422 non-null object\n",
      "num_voted_users              3422 non-null int64\n",
      "cast_total_facebook_likes    3422 non-null int64\n",
      "num_user_for_reviews         3422 non-null float64\n",
      "language                     3422 non-null object\n",
      "country                      3422 non-null object\n",
      "content_rating               3422 non-null object\n",
      "budget                       3422 non-null float64\n",
      "title_year                   3422 non-null float64\n",
      "imdb_score                   3422 non-null float64\n",
      "movie_facebook_likes         3422 non-null int64\n",
      "dtypes: float64(9), int64(5), object(7)\n",
      "memory usage: 588.2+ KB\n"
     ]
    }
   ],
   "source": [
    "datac = df.dropna()\n",
    "datac.info()"
   ]
  },
  {
   "cell_type": "code",
   "execution_count": 604,
   "metadata": {
    "slideshow": {
     "slide_type": "-"
    }
   },
   "outputs": [
    {
     "data": {
      "text/html": [
       "<div>\n",
       "<style scoped>\n",
       "    .dataframe tbody tr th:only-of-type {\n",
       "        vertical-align: middle;\n",
       "    }\n",
       "\n",
       "    .dataframe tbody tr th {\n",
       "        vertical-align: top;\n",
       "    }\n",
       "\n",
       "    .dataframe thead th {\n",
       "        text-align: right;\n",
       "    }\n",
       "</style>\n",
       "<table border=\"1\" class=\"dataframe\">\n",
       "  <thead>\n",
       "    <tr style=\"text-align: right;\">\n",
       "      <th></th>\n",
       "      <th>level_0</th>\n",
       "      <th>index</th>\n",
       "      <th>num_critic_for_reviews</th>\n",
       "      <th>duration</th>\n",
       "      <th>director_facebook_likes</th>\n",
       "      <th>actor_1_facebook_likes</th>\n",
       "      <th>gross</th>\n",
       "      <th>genres</th>\n",
       "      <th>actor_1_name</th>\n",
       "      <th>movie_title</th>\n",
       "      <th>num_voted_users</th>\n",
       "      <th>cast_total_facebook_likes</th>\n",
       "      <th>num_user_for_reviews</th>\n",
       "      <th>language</th>\n",
       "      <th>country</th>\n",
       "      <th>content_rating</th>\n",
       "      <th>budget</th>\n",
       "      <th>title_year</th>\n",
       "      <th>imdb_score</th>\n",
       "      <th>movie_facebook_likes</th>\n",
       "    </tr>\n",
       "  </thead>\n",
       "  <tbody>\n",
       "    <tr>\n",
       "      <th>0</th>\n",
       "      <td>0</td>\n",
       "      <td>0</td>\n",
       "      <td>723.0</td>\n",
       "      <td>178.0</td>\n",
       "      <td>0.0</td>\n",
       "      <td>1000.0</td>\n",
       "      <td>760505847.0</td>\n",
       "      <td>Action</td>\n",
       "      <td>CCH Pounder</td>\n",
       "      <td>Avatar</td>\n",
       "      <td>886204</td>\n",
       "      <td>4834</td>\n",
       "      <td>3054.0</td>\n",
       "      <td>English</td>\n",
       "      <td>USA</td>\n",
       "      <td>PG-13</td>\n",
       "      <td>237000000.0</td>\n",
       "      <td>2009.0</td>\n",
       "      <td>7.9</td>\n",
       "      <td>33000</td>\n",
       "    </tr>\n",
       "    <tr>\n",
       "      <th>1</th>\n",
       "      <td>1</td>\n",
       "      <td>1</td>\n",
       "      <td>302.0</td>\n",
       "      <td>169.0</td>\n",
       "      <td>563.0</td>\n",
       "      <td>40000.0</td>\n",
       "      <td>309404152.0</td>\n",
       "      <td>Action</td>\n",
       "      <td>Johnny Depp</td>\n",
       "      <td>Pirates of the Caribbean: At World's End</td>\n",
       "      <td>471220</td>\n",
       "      <td>48350</td>\n",
       "      <td>1238.0</td>\n",
       "      <td>English</td>\n",
       "      <td>USA</td>\n",
       "      <td>PG-13</td>\n",
       "      <td>300000000.0</td>\n",
       "      <td>2007.0</td>\n",
       "      <td>7.1</td>\n",
       "      <td>0</td>\n",
       "    </tr>\n",
       "    <tr>\n",
       "      <th>2</th>\n",
       "      <td>2</td>\n",
       "      <td>3</td>\n",
       "      <td>813.0</td>\n",
       "      <td>164.0</td>\n",
       "      <td>22000.0</td>\n",
       "      <td>27000.0</td>\n",
       "      <td>448130642.0</td>\n",
       "      <td>Thriller</td>\n",
       "      <td>Tom Hardy</td>\n",
       "      <td>The Dark Knight Rises</td>\n",
       "      <td>1144337</td>\n",
       "      <td>106759</td>\n",
       "      <td>2701.0</td>\n",
       "      <td>English</td>\n",
       "      <td>USA</td>\n",
       "      <td>PG-13</td>\n",
       "      <td>250000000.0</td>\n",
       "      <td>2012.0</td>\n",
       "      <td>8.5</td>\n",
       "      <td>164000</td>\n",
       "    </tr>\n",
       "    <tr>\n",
       "      <th>3</th>\n",
       "      <td>3</td>\n",
       "      <td>5</td>\n",
       "      <td>462.0</td>\n",
       "      <td>132.0</td>\n",
       "      <td>475.0</td>\n",
       "      <td>640.0</td>\n",
       "      <td>73058679.0</td>\n",
       "      <td>Adventure</td>\n",
       "      <td>Daryl Sabara</td>\n",
       "      <td>John Carter</td>\n",
       "      <td>212204</td>\n",
       "      <td>1873</td>\n",
       "      <td>738.0</td>\n",
       "      <td>English</td>\n",
       "      <td>USA</td>\n",
       "      <td>PG-13</td>\n",
       "      <td>263700000.0</td>\n",
       "      <td>2012.0</td>\n",
       "      <td>6.6</td>\n",
       "      <td>24000</td>\n",
       "    </tr>\n",
       "    <tr>\n",
       "      <th>4</th>\n",
       "      <td>4</td>\n",
       "      <td>6</td>\n",
       "      <td>392.0</td>\n",
       "      <td>156.0</td>\n",
       "      <td>0.0</td>\n",
       "      <td>24000.0</td>\n",
       "      <td>336530303.0</td>\n",
       "      <td>Action</td>\n",
       "      <td>J.K. Simmons</td>\n",
       "      <td>Spider-Man 3</td>\n",
       "      <td>383056</td>\n",
       "      <td>46055</td>\n",
       "      <td>1902.0</td>\n",
       "      <td>English</td>\n",
       "      <td>USA</td>\n",
       "      <td>PG-13</td>\n",
       "      <td>258000000.0</td>\n",
       "      <td>2007.0</td>\n",
       "      <td>6.2</td>\n",
       "      <td>0</td>\n",
       "    </tr>\n",
       "  </tbody>\n",
       "</table>\n",
       "</div>"
      ],
      "text/plain": [
       "   level_0  index  num_critic_for_reviews  duration  director_facebook_likes  \\\n",
       "0        0      0                   723.0     178.0                      0.0   \n",
       "1        1      1                   302.0     169.0                    563.0   \n",
       "2        2      3                   813.0     164.0                  22000.0   \n",
       "3        3      5                   462.0     132.0                    475.0   \n",
       "4        4      6                   392.0     156.0                      0.0   \n",
       "\n",
       "   actor_1_facebook_likes        gross     genres  actor_1_name  \\\n",
       "0                  1000.0  760505847.0     Action   CCH Pounder   \n",
       "1                 40000.0  309404152.0     Action   Johnny Depp   \n",
       "2                 27000.0  448130642.0   Thriller     Tom Hardy   \n",
       "3                   640.0   73058679.0  Adventure  Daryl Sabara   \n",
       "4                 24000.0  336530303.0     Action  J.K. Simmons   \n",
       "\n",
       "                                 movie_title  num_voted_users  \\\n",
       "0                                    Avatar            886204   \n",
       "1  Pirates of the Caribbean: At World's End            471220   \n",
       "2                     The Dark Knight Rises           1144337   \n",
       "3                               John Carter            212204   \n",
       "4                              Spider-Man 3            383056   \n",
       "\n",
       "   cast_total_facebook_likes  num_user_for_reviews language country  \\\n",
       "0                       4834                3054.0  English     USA   \n",
       "1                      48350                1238.0  English     USA   \n",
       "2                     106759                2701.0  English     USA   \n",
       "3                       1873                 738.0  English     USA   \n",
       "4                      46055                1902.0  English     USA   \n",
       "\n",
       "  content_rating       budget  title_year  imdb_score  movie_facebook_likes  \n",
       "0          PG-13  237000000.0      2009.0         7.9                 33000  \n",
       "1          PG-13  300000000.0      2007.0         7.1                     0  \n",
       "2          PG-13  250000000.0      2012.0         8.5                164000  \n",
       "3          PG-13  263700000.0      2012.0         6.6                 24000  \n",
       "4          PG-13  258000000.0      2007.0         6.2                     0  "
      ]
     },
     "execution_count": 604,
     "metadata": {},
     "output_type": "execute_result"
    }
   ],
   "source": [
    "datac = datac.drop(['director_name'], axis=1)\n",
    "datac.head()"
   ]
  },
  {
   "cell_type": "markdown",
   "metadata": {
    "slideshow": {
     "slide_type": "-"
    }
   },
   "source": [
    "## Dropping data that is not needed for reggression and models so it is easier to work with. "
   ]
  },
  {
   "cell_type": "markdown",
   "metadata": {},
   "source": [
    "# Starting the Lasso model "
   ]
  },
  {
   "cell_type": "code",
   "execution_count": 696,
   "metadata": {
    "scrolled": false,
    "slideshow": {
     "slide_type": "-"
    }
   },
   "outputs": [
    {
     "data": {
      "text/html": [
       "<div>\n",
       "<style scoped>\n",
       "    .dataframe tbody tr th:only-of-type {\n",
       "        vertical-align: middle;\n",
       "    }\n",
       "\n",
       "    .dataframe tbody tr th {\n",
       "        vertical-align: top;\n",
       "    }\n",
       "\n",
       "    .dataframe thead th {\n",
       "        text-align: right;\n",
       "    }\n",
       "</style>\n",
       "<table border=\"1\" class=\"dataframe\">\n",
       "  <thead>\n",
       "    <tr style=\"text-align: right;\">\n",
       "      <th></th>\n",
       "      <th>level_0</th>\n",
       "      <th>index</th>\n",
       "      <th>num_critic_for_reviews</th>\n",
       "      <th>duration</th>\n",
       "      <th>director_facebook_likes</th>\n",
       "      <th>actor_1_facebook_likes</th>\n",
       "      <th>gross</th>\n",
       "      <th>genres</th>\n",
       "      <th>actor_1_name</th>\n",
       "      <th>movie_title</th>\n",
       "      <th>num_voted_users</th>\n",
       "      <th>cast_total_facebook_likes</th>\n",
       "      <th>num_user_for_reviews</th>\n",
       "      <th>language</th>\n",
       "      <th>country</th>\n",
       "      <th>content_rating</th>\n",
       "      <th>budget</th>\n",
       "      <th>title_year</th>\n",
       "      <th>imdb_score</th>\n",
       "      <th>movie_facebook_likes</th>\n",
       "    </tr>\n",
       "  </thead>\n",
       "  <tbody>\n",
       "    <tr>\n",
       "      <th>0</th>\n",
       "      <td>0</td>\n",
       "      <td>0</td>\n",
       "      <td>723.0</td>\n",
       "      <td>178.0</td>\n",
       "      <td>0.0</td>\n",
       "      <td>1000.0</td>\n",
       "      <td>760505847.0</td>\n",
       "      <td>Action</td>\n",
       "      <td>CCH Pounder</td>\n",
       "      <td>Avatar</td>\n",
       "      <td>886204</td>\n",
       "      <td>4834</td>\n",
       "      <td>3054.0</td>\n",
       "      <td>English</td>\n",
       "      <td>USA</td>\n",
       "      <td>PG-13</td>\n",
       "      <td>237000000.0</td>\n",
       "      <td>2009.0</td>\n",
       "      <td>7.9</td>\n",
       "      <td>33000</td>\n",
       "    </tr>\n",
       "    <tr>\n",
       "      <th>1</th>\n",
       "      <td>1</td>\n",
       "      <td>1</td>\n",
       "      <td>302.0</td>\n",
       "      <td>169.0</td>\n",
       "      <td>563.0</td>\n",
       "      <td>40000.0</td>\n",
       "      <td>309404152.0</td>\n",
       "      <td>Action</td>\n",
       "      <td>Johnny Depp</td>\n",
       "      <td>Pirates of the Caribbean: At World's End</td>\n",
       "      <td>471220</td>\n",
       "      <td>48350</td>\n",
       "      <td>1238.0</td>\n",
       "      <td>English</td>\n",
       "      <td>USA</td>\n",
       "      <td>PG-13</td>\n",
       "      <td>300000000.0</td>\n",
       "      <td>2007.0</td>\n",
       "      <td>7.1</td>\n",
       "      <td>0</td>\n",
       "    </tr>\n",
       "    <tr>\n",
       "      <th>2</th>\n",
       "      <td>2</td>\n",
       "      <td>3</td>\n",
       "      <td>813.0</td>\n",
       "      <td>164.0</td>\n",
       "      <td>22000.0</td>\n",
       "      <td>27000.0</td>\n",
       "      <td>448130642.0</td>\n",
       "      <td>Thriller</td>\n",
       "      <td>Tom Hardy</td>\n",
       "      <td>The Dark Knight Rises</td>\n",
       "      <td>1144337</td>\n",
       "      <td>106759</td>\n",
       "      <td>2701.0</td>\n",
       "      <td>English</td>\n",
       "      <td>USA</td>\n",
       "      <td>PG-13</td>\n",
       "      <td>250000000.0</td>\n",
       "      <td>2012.0</td>\n",
       "      <td>8.5</td>\n",
       "      <td>164000</td>\n",
       "    </tr>\n",
       "    <tr>\n",
       "      <th>3</th>\n",
       "      <td>3</td>\n",
       "      <td>5</td>\n",
       "      <td>462.0</td>\n",
       "      <td>132.0</td>\n",
       "      <td>475.0</td>\n",
       "      <td>640.0</td>\n",
       "      <td>73058679.0</td>\n",
       "      <td>Adventure</td>\n",
       "      <td>Daryl Sabara</td>\n",
       "      <td>John Carter</td>\n",
       "      <td>212204</td>\n",
       "      <td>1873</td>\n",
       "      <td>738.0</td>\n",
       "      <td>English</td>\n",
       "      <td>USA</td>\n",
       "      <td>PG-13</td>\n",
       "      <td>263700000.0</td>\n",
       "      <td>2012.0</td>\n",
       "      <td>6.6</td>\n",
       "      <td>24000</td>\n",
       "    </tr>\n",
       "    <tr>\n",
       "      <th>4</th>\n",
       "      <td>4</td>\n",
       "      <td>6</td>\n",
       "      <td>392.0</td>\n",
       "      <td>156.0</td>\n",
       "      <td>0.0</td>\n",
       "      <td>24000.0</td>\n",
       "      <td>336530303.0</td>\n",
       "      <td>Action</td>\n",
       "      <td>J.K. Simmons</td>\n",
       "      <td>Spider-Man 3</td>\n",
       "      <td>383056</td>\n",
       "      <td>46055</td>\n",
       "      <td>1902.0</td>\n",
       "      <td>English</td>\n",
       "      <td>USA</td>\n",
       "      <td>PG-13</td>\n",
       "      <td>258000000.0</td>\n",
       "      <td>2007.0</td>\n",
       "      <td>6.2</td>\n",
       "      <td>0</td>\n",
       "    </tr>\n",
       "  </tbody>\n",
       "</table>\n",
       "</div>"
      ],
      "text/plain": [
       "   level_0  index  num_critic_for_reviews  duration  director_facebook_likes  \\\n",
       "0        0      0                   723.0     178.0                      0.0   \n",
       "1        1      1                   302.0     169.0                    563.0   \n",
       "2        2      3                   813.0     164.0                  22000.0   \n",
       "3        3      5                   462.0     132.0                    475.0   \n",
       "4        4      6                   392.0     156.0                      0.0   \n",
       "\n",
       "   actor_1_facebook_likes        gross     genres  actor_1_name  \\\n",
       "0                  1000.0  760505847.0     Action   CCH Pounder   \n",
       "1                 40000.0  309404152.0     Action   Johnny Depp   \n",
       "2                 27000.0  448130642.0   Thriller     Tom Hardy   \n",
       "3                   640.0   73058679.0  Adventure  Daryl Sabara   \n",
       "4                 24000.0  336530303.0     Action  J.K. Simmons   \n",
       "\n",
       "                                 movie_title  num_voted_users  \\\n",
       "0                                    Avatar            886204   \n",
       "1  Pirates of the Caribbean: At World's End            471220   \n",
       "2                     The Dark Knight Rises           1144337   \n",
       "3                               John Carter            212204   \n",
       "4                              Spider-Man 3            383056   \n",
       "\n",
       "   cast_total_facebook_likes  num_user_for_reviews language country  \\\n",
       "0                       4834                3054.0  English     USA   \n",
       "1                      48350                1238.0  English     USA   \n",
       "2                     106759                2701.0  English     USA   \n",
       "3                       1873                 738.0  English     USA   \n",
       "4                      46055                1902.0  English     USA   \n",
       "\n",
       "  content_rating       budget  title_year  imdb_score  movie_facebook_likes  \n",
       "0          PG-13  237000000.0      2009.0         7.9                 33000  \n",
       "1          PG-13  300000000.0      2007.0         7.1                     0  \n",
       "2          PG-13  250000000.0      2012.0         8.5                164000  \n",
       "3          PG-13  263700000.0      2012.0         6.6                 24000  \n",
       "4          PG-13  258000000.0      2007.0         6.2                     0  "
      ]
     },
     "execution_count": 696,
     "metadata": {},
     "output_type": "execute_result"
    }
   ],
   "source": [
    "y = datac['imdb_score'] \n",
    "X = datac.drop(['actor_1_name', 'movie_title', 'language', 'country', 'content_rating', 'genres'], axis =1)\n",
    "datac.head()"
   ]
  },
  {
   "cell_type": "markdown",
   "metadata": {
    "slideshow": {
     "slide_type": "slide"
    }
   },
   "source": [
    "# Lasso Model "
   ]
  },
  {
   "cell_type": "code",
   "execution_count": 697,
   "metadata": {
    "slideshow": {
     "slide_type": "-"
    }
   },
   "outputs": [
    {
     "name": "stderr",
     "output_type": "stream",
     "text": [
      "/Users/milesvincent/anaconda3/lib/python3.7/site-packages/sklearn/linear_model/coordinate_descent.py:475: ConvergenceWarning: Objective did not converge. You might want to increase the number of iterations. Duality gap: 766.782129769774, tolerance: 0.4088064573348919\n",
      "  positive)\n"
     ]
    }
   ],
   "source": [
    "model1 = lm.Lasso(alpha=1)         #higher alpha (penality parameter), fewer predictors\n",
    "model1.fit(X, y)\n",
    "model1_y = model1.predict(X)"
   ]
  },
  {
   "cell_type": "code",
   "execution_count": 698,
   "metadata": {
    "slideshow": {
     "slide_type": "-"
    }
   },
   "outputs": [
    {
     "name": "stdout",
     "output_type": "stream",
     "text": [
      "Coefficients:  [-2.67902098e-05  1.05730774e-04  2.63777726e-03  1.06405947e-02\n",
      "  1.11941636e-05  1.00161297e-05 -1.49098137e-10  3.59949110e-06\n",
      " -6.85644047e-06 -5.19343371e-04 -2.93944255e-09 -1.14407993e-02\n",
      "  0.00000000e+00 -3.52509499e-06]\n",
      "y-intercept  27.448992278633682\n"
     ]
    }
   ],
   "source": [
    "print('Coefficients: ', model1.coef_)\n",
    "print(\"y-intercept \", model1.intercept_)"
   ]
  },
  {
   "cell_type": "code",
   "execution_count": 608,
   "metadata": {
    "slideshow": {
     "slide_type": "-"
    }
   },
   "outputs": [
    {
     "data": {
      "text/plain": [
       "[('level_0', '-0.000'),\n",
       " ('index', '0.000'),\n",
       " ('num_critic_for_reviews', '0.003'),\n",
       " ('duration', '0.011'),\n",
       " ('director_facebook_likes', '0.000'),\n",
       " ('actor_1_facebook_likes', '0.000'),\n",
       " ('gross', '-0.000'),\n",
       " ('num_voted_users', '0.000'),\n",
       " ('cast_total_facebook_likes', '-0.000'),\n",
       " ('num_user_for_reviews', '-0.001'),\n",
       " ('budget', '-0.000'),\n",
       " ('title_year', '-0.011'),\n",
       " ('imdb_score', '0.000'),\n",
       " ('movie_facebook_likes', '-0.000')]"
      ]
     },
     "execution_count": 608,
     "metadata": {},
     "output_type": "execute_result"
    }
   ],
   "source": [
    "coef = [\"%.3f\" % i for i in model1.coef_]\n",
    "xcolumns = [ i for i in X.columns ]\n",
    "list(zip(xcolumns, coef))"
   ]
  },
  {
   "cell_type": "code",
   "execution_count": 609,
   "metadata": {
    "slideshow": {
     "slide_type": "slide"
    }
   },
   "outputs": [
    {
     "name": "stdout",
     "output_type": "stream",
     "text": [
      "mean square error:  0.7419909871660478\n",
      "variance or r-squared:  0.3789009169191755\n"
     ]
    }
   ],
   "source": [
    "print(\"mean square error: \", mean_squared_error(y, model1_y))\n",
    "print(\"variance or r-squared: \", explained_variance_score(y, model1_y))"
   ]
  },
  {
   "cell_type": "markdown",
   "metadata": {
    "slideshow": {
     "slide_type": "-"
    }
   },
   "source": [
    "## running the stats model to fine an R-sqaured "
   ]
  },
  {
   "cell_type": "code",
   "execution_count": 610,
   "metadata": {
    "slideshow": {
     "slide_type": "slide"
    }
   },
   "outputs": [
    {
     "name": "stdout",
     "output_type": "stream",
     "text": [
      "                            OLS Regression Results                            \n",
      "==============================================================================\n",
      "Dep. Variable:             imdb_score   R-squared:                       0.393\n",
      "Model:                            OLS   Adj. R-squared:                  0.391\n",
      "Method:                 Least Squares   F-statistic:                     169.8\n",
      "Date:                Tue, 10 Dec 2019   Prob (F-statistic):               0.00\n",
      "Time:                        11:07:27   Log-Likelihood:                -4305.4\n",
      "No. Observations:                3422   AIC:                             8639.\n",
      "Df Residuals:                    3408   BIC:                             8725.\n",
      "Df Model:                          13                                         \n",
      "Covariance Type:            nonrobust                                         \n",
      "=============================================================================================\n",
      "                                coef    std err          t      P>|t|      [0.025      0.975]\n",
      "---------------------------------------------------------------------------------------------\n",
      "Intercept                    54.7174      3.512     15.580      0.000      47.831      61.603\n",
      "level_0                      -0.0004      0.000     -2.005      0.045      -0.001    -9.8e-06\n",
      "index                         0.0004      0.000      2.659      0.008       0.000       0.001\n",
      "num_critic_for_reviews        0.0034      0.000     16.423      0.000       0.003       0.004\n",
      "duration                      0.0123      0.001     15.730      0.000       0.011       0.014\n",
      "director_facebook_likes    5.615e-06   4.83e-06      1.163      0.245   -3.85e-06    1.51e-05\n",
      "actor_1_facebook_likes     9.252e-06   2.95e-06      3.133      0.002    3.46e-06     1.5e-05\n",
      "gross                     -4.301e-10   3.25e-10     -1.323      0.186   -1.07e-09    2.07e-10\n",
      "num_voted_users             3.46e-06   1.89e-07     18.330      0.000    3.09e-06    3.83e-06\n",
      "cast_total_facebook_likes -5.984e-06    2.5e-06     -2.395      0.017   -1.09e-05   -1.09e-06\n",
      "num_user_for_reviews         -0.0006    6.5e-05     -9.848      0.000      -0.001      -0.001\n",
      "budget                    -3.119e-09   7.15e-10     -4.360      0.000   -4.52e-09   -1.72e-09\n",
      "title_year                   -0.0251      0.002    -14.374      0.000      -0.029      -0.022\n",
      "movie_facebook_likes      -3.736e-06   1.03e-06     -3.633      0.000   -5.75e-06   -1.72e-06\n",
      "==============================================================================\n",
      "Omnibus:                      501.505   Durbin-Watson:                   2.006\n",
      "Prob(Omnibus):                  0.000   Jarque-Bera (JB):             1038.420\n",
      "Skew:                          -0.883   Prob(JB):                    3.24e-226\n",
      "Kurtosis:                       5.041   Cond. No.                     2.43e+10\n",
      "==============================================================================\n",
      "\n",
      "Warnings:\n",
      "[1] Standard Errors assume that the covariance matrix of the errors is correctly specified.\n",
      "[2] The condition number is large, 2.43e+10. This might indicate that there are\n",
      "strong multicollinearity or other numerical problems.\n",
      "                            OLS Regression Results                            \n",
      "==============================================================================\n",
      "Dep. Variable:             imdb_score   R-squared:                       0.083\n",
      "Model:                            OLS   Adj. R-squared:                  0.083\n",
      "Method:                 Least Squares   F-statistic:                     154.9\n",
      "Date:                Tue, 10 Dec 2019   Prob (F-statistic):           4.12e-65\n",
      "Time:                        11:07:27   Log-Likelihood:                -5011.5\n",
      "No. Observations:                3422   AIC:                         1.003e+04\n",
      "Df Residuals:                    3419   BIC:                         1.005e+04\n",
      "Df Model:                           2                                         \n",
      "Covariance Type:            nonrobust                                         \n",
      "========================================================================================\n",
      "                           coef    std err          t      P>|t|      [0.025      0.975]\n",
      "----------------------------------------------------------------------------------------\n",
      "Intercept                6.2100      0.024    255.042      0.000       6.162       6.258\n",
      "budget               -1.768e-10   4.52e-10     -0.391      0.696   -1.06e-09     7.1e-10\n",
      "movie_facebook_likes  1.516e-05   9.09e-07     16.677      0.000    1.34e-05    1.69e-05\n",
      "==============================================================================\n",
      "Omnibus:                      381.606   Durbin-Watson:                   1.902\n",
      "Prob(Omnibus):                  0.000   Jarque-Bera (JB):              597.899\n",
      "Skew:                          -0.800   Prob(JB):                    1.47e-130\n",
      "Kurtosis:                       4.278   Cond. No.                     7.77e+07\n",
      "==============================================================================\n",
      "\n",
      "Warnings:\n",
      "[1] Standard Errors assume that the covariance matrix of the errors is correctly specified.\n",
      "[2] The condition number is large, 7.77e+07. This might indicate that there are\n",
      "strong multicollinearity or other numerical problems.\n"
     ]
    }
   ],
   "source": [
    "import statsmodels.formula.api as sm\n",
    "# Stats Model \n",
    "#First Model\n",
    "imdb_model1 = sm.ols(\"imdb_score~level_0+index+num_critic_for_reviews+duration+director_facebook_likes+actor_1_facebook_likes+gross+num_voted_users+cast_total_facebook_likes+num_user_for_reviews+budget+title_year+movie_facebook_likes\",datac)\n",
    "imdb1 = imdb_model1.fit()\n",
    "#Second Model\n",
    "imdb_model3 = sm.ols(\"imdb_score~budget+movie_facebook_likes\",datac)\n",
    "imdb3 = imdb_model3.fit()\n",
    "\n",
    "print(imdb1.summary())\n",
    "print(imdb3.summary())"
   ]
  },
  {
   "cell_type": "markdown",
   "metadata": {
    "slideshow": {
     "slide_type": "-"
    }
   },
   "source": [
    "### we have a very low R-squared so that should indicate to us that this is not a very good model "
   ]
  },
  {
   "cell_type": "markdown",
   "metadata": {
    "slideshow": {
     "slide_type": "slide"
    }
   },
   "source": [
    "# Ridge Model "
   ]
  },
  {
   "cell_type": "code",
   "execution_count": 611,
   "metadata": {
    "slideshow": {
     "slide_type": "-"
    }
   },
   "outputs": [
    {
     "name": "stderr",
     "output_type": "stream",
     "text": [
      "/Users/milesvincent/anaconda3/lib/python3.7/site-packages/sklearn/linear_model/ridge.py:147: LinAlgWarning: Ill-conditioned matrix (rcond=1.0506e-16): result may not be accurate.\n",
      "  overwrite_a=True).T\n"
     ]
    }
   ],
   "source": [
    "model2 = lm.Ridge(alpha=0.1)             #higher alpha (penality parameter), fewer predictors\n",
    "model2.fit(X, y)\n",
    "model2_y = model1.predict(X)"
   ]
  },
  {
   "cell_type": "code",
   "execution_count": 612,
   "metadata": {
    "slideshow": {
     "slide_type": "-"
    }
   },
   "outputs": [
    {
     "data": {
      "text/plain": [
       "Ridge(alpha=0.1, copy_X=True, fit_intercept=True, max_iter=None,\n",
       "      normalize=False, random_state=None, solver='auto', tol=0.001)"
      ]
     },
     "execution_count": 612,
     "metadata": {},
     "output_type": "execute_result"
    }
   ],
   "source": [
    "model2"
   ]
  },
  {
   "cell_type": "code",
   "execution_count": 613,
   "metadata": {
    "slideshow": {
     "slide_type": "-"
    }
   },
   "outputs": [
    {
     "data": {
      "text/plain": [
       "[('level_0', '-0.000'),\n",
       " ('index', '0.000'),\n",
       " ('num_critic_for_reviews', '0.003'),\n",
       " ('duration', '0.011'),\n",
       " ('director_facebook_likes', '0.000'),\n",
       " ('actor_1_facebook_likes', '0.000'),\n",
       " ('gross', '-0.000'),\n",
       " ('num_voted_users', '0.000'),\n",
       " ('cast_total_facebook_likes', '-0.000'),\n",
       " ('num_user_for_reviews', '-0.001'),\n",
       " ('budget', '-0.000'),\n",
       " ('title_year', '-0.011'),\n",
       " ('imdb_score', '0.000'),\n",
       " ('movie_facebook_likes', '-0.000')]"
      ]
     },
     "execution_count": 613,
     "metadata": {},
     "output_type": "execute_result"
    }
   ],
   "source": [
    "coef = [\"%.3f\" % i for i in model1.coef_]\n",
    "xcolumns = [ i for i in X.columns ]\n",
    "list(zip(xcolumns, coef))"
   ]
  },
  {
   "cell_type": "code",
   "execution_count": 614,
   "metadata": {
    "slideshow": {
     "slide_type": "-"
    }
   },
   "outputs": [
    {
     "data": {
      "text/plain": [
       "array([[1.780000e+02, 8.862040e+05],\n",
       "       [1.690000e+02, 4.712200e+05],\n",
       "       [1.640000e+02, 1.144337e+06],\n",
       "       ...,\n",
       "       [8.400000e+01, 3.600000e+01],\n",
       "       [1.000000e+02, 1.255000e+03],\n",
       "       [9.000000e+01, 4.285000e+03]])"
      ]
     },
     "execution_count": 614,
     "metadata": {},
     "output_type": "execute_result"
    }
   ],
   "source": [
    "# feature \n",
    "X_new = SelectKBest(f_regression, k=2).fit_transform(X, y)\n",
    "X_new"
   ]
  },
  {
   "cell_type": "code",
   "execution_count": 615,
   "metadata": {
    "slideshow": {
     "slide_type": "slide"
    }
   },
   "outputs": [
    {
     "name": "stdout",
     "output_type": "stream",
     "text": [
      "[2 3 7 9]\n"
     ]
    }
   ],
   "source": [
    "selector = SelectKBest(f_regression, k=4).fit(X, y)\n",
    "idxs_selected = selector.get_support(indices=True)\n",
    "print(idxs_selected)"
   ]
  },
  {
   "cell_type": "code",
   "execution_count": 616,
   "metadata": {
    "slideshow": {
     "slide_type": "subslide"
    }
   },
   "outputs": [
    {
     "data": {
      "text/html": [
       "<div>\n",
       "<style scoped>\n",
       "    .dataframe tbody tr th:only-of-type {\n",
       "        vertical-align: middle;\n",
       "    }\n",
       "\n",
       "    .dataframe tbody tr th {\n",
       "        vertical-align: top;\n",
       "    }\n",
       "\n",
       "    .dataframe thead th {\n",
       "        text-align: right;\n",
       "    }\n",
       "</style>\n",
       "<table border=\"1\" class=\"dataframe\">\n",
       "  <thead>\n",
       "    <tr style=\"text-align: right;\">\n",
       "      <th></th>\n",
       "      <th>level_0</th>\n",
       "      <th>index</th>\n",
       "      <th>num_critic_for_reviews</th>\n",
       "      <th>duration</th>\n",
       "      <th>director_facebook_likes</th>\n",
       "      <th>actor_1_facebook_likes</th>\n",
       "      <th>gross</th>\n",
       "      <th>num_voted_users</th>\n",
       "      <th>cast_total_facebook_likes</th>\n",
       "      <th>num_user_for_reviews</th>\n",
       "      <th>budget</th>\n",
       "      <th>title_year</th>\n",
       "      <th>imdb_score</th>\n",
       "      <th>movie_facebook_likes</th>\n",
       "    </tr>\n",
       "  </thead>\n",
       "  <tbody>\n",
       "    <tr>\n",
       "      <th>0</th>\n",
       "      <td>0</td>\n",
       "      <td>0</td>\n",
       "      <td>723.0</td>\n",
       "      <td>178.0</td>\n",
       "      <td>0.0</td>\n",
       "      <td>1000.0</td>\n",
       "      <td>760505847.0</td>\n",
       "      <td>886204</td>\n",
       "      <td>4834</td>\n",
       "      <td>3054.0</td>\n",
       "      <td>237000000.0</td>\n",
       "      <td>2009.0</td>\n",
       "      <td>7.9</td>\n",
       "      <td>33000</td>\n",
       "    </tr>\n",
       "    <tr>\n",
       "      <th>1</th>\n",
       "      <td>1</td>\n",
       "      <td>1</td>\n",
       "      <td>302.0</td>\n",
       "      <td>169.0</td>\n",
       "      <td>563.0</td>\n",
       "      <td>40000.0</td>\n",
       "      <td>309404152.0</td>\n",
       "      <td>471220</td>\n",
       "      <td>48350</td>\n",
       "      <td>1238.0</td>\n",
       "      <td>300000000.0</td>\n",
       "      <td>2007.0</td>\n",
       "      <td>7.1</td>\n",
       "      <td>0</td>\n",
       "    </tr>\n",
       "  </tbody>\n",
       "</table>\n",
       "</div>"
      ],
      "text/plain": [
       "   level_0  index  num_critic_for_reviews  duration  director_facebook_likes  \\\n",
       "0        0      0                   723.0     178.0                      0.0   \n",
       "1        1      1                   302.0     169.0                    563.0   \n",
       "\n",
       "   actor_1_facebook_likes        gross  num_voted_users  \\\n",
       "0                  1000.0  760505847.0           886204   \n",
       "1                 40000.0  309404152.0           471220   \n",
       "\n",
       "   cast_total_facebook_likes  num_user_for_reviews       budget  title_year  \\\n",
       "0                       4834                3054.0  237000000.0      2009.0   \n",
       "1                      48350                1238.0  300000000.0      2007.0   \n",
       "\n",
       "   imdb_score  movie_facebook_likes  \n",
       "0         7.9                 33000  \n",
       "1         7.1                     0  "
      ]
     },
     "execution_count": 616,
     "metadata": {},
     "output_type": "execute_result"
    }
   ],
   "source": [
    "X.head(2)"
   ]
  },
  {
   "cell_type": "markdown",
   "metadata": {
    "slideshow": {
     "slide_type": "-"
    }
   },
   "source": [
    "### Number of critic for review, duration, number of votes, and number user for review are the best "
   ]
  },
  {
   "cell_type": "markdown",
   "metadata": {},
   "source": [
    "## Linear Regression "
   ]
  },
  {
   "cell_type": "code",
   "execution_count": 617,
   "metadata": {
    "slideshow": {
     "slide_type": "slide"
    }
   },
   "outputs": [
    {
     "name": "stdout",
     "output_type": "stream",
     "text": [
      "mean square error:  0.8525621604582408\n",
      "variance or r-squared:  0.2863450024474228\n"
     ]
    }
   ],
   "source": [
    "model2 = lm.LinearRegression()\n",
    "model2.fit(X_new, y)\n",
    "model2_y = model2.predict(X_new)\n",
    "\n",
    "print(\"mean square error: \", mean_squared_error(y, model2_y))\n",
    "print(\"variance or r-squared: \", explained_variance_score(y, model2_y))"
   ]
  },
  {
   "cell_type": "markdown",
   "metadata": {
    "slideshow": {
     "slide_type": "subslide"
    }
   },
   "source": [
    "# Model 2 does not have a very good r-sqaured so it will not be that good of a predictor "
   ]
  },
  {
   "cell_type": "code",
   "execution_count": 618,
   "metadata": {
    "slideshow": {
     "slide_type": "slide"
    }
   },
   "outputs": [
    {
     "name": "stdout",
     "output_type": "stream",
     "text": [
      "                            OLS Regression Results                            \n",
      "==============================================================================\n",
      "Dep. Variable:             imdb_score   R-squared:                       0.229\n",
      "Model:                            OLS   Adj. R-squared:                  0.228\n",
      "Method:                 Least Squares   F-statistic:                     253.9\n",
      "Date:                Tue, 10 Dec 2019   Prob (F-statistic):          3.32e-191\n",
      "Time:                        11:07:27   Log-Likelihood:                -4714.7\n",
      "No. Observations:                3422   AIC:                             9439.\n",
      "Df Residuals:                    3417   BIC:                             9470.\n",
      "Df Model:                           4                                         \n",
      "Covariance Type:            nonrobust                                         \n",
      "==========================================================================================\n",
      "                             coef    std err          t      P>|t|      [0.025      0.975]\n",
      "------------------------------------------------------------------------------------------\n",
      "Intercept                  4.4504      0.089     50.083      0.000       4.276       4.625\n",
      "num_critic_for_reviews     0.0018      0.000      8.696      0.000       0.001       0.002\n",
      "duration                   0.0138      0.001     16.586      0.000       0.012       0.015\n",
      "num_user_for_reviews       0.0003   5.38e-05      5.994      0.000       0.000       0.000\n",
      "movie_facebook_likes    1.305e-06    1.1e-06      1.187      0.235   -8.51e-07    3.46e-06\n",
      "==============================================================================\n",
      "Omnibus:                      368.497   Durbin-Watson:                   1.897\n",
      "Prob(Omnibus):                  0.000   Jarque-Bera (JB):              602.154\n",
      "Skew:                          -0.760   Prob(JB):                    1.75e-131\n",
      "Kurtosis:                       4.383   Cond. No.                     1.23e+05\n",
      "==============================================================================\n",
      "\n",
      "Warnings:\n",
      "[1] Standard Errors assume that the covariance matrix of the errors is correctly specified.\n",
      "[2] The condition number is large, 1.23e+05. This might indicate that there are\n",
      "strong multicollinearity or other numerical problems.\n"
     ]
    }
   ],
   "source": [
    "import statsmodels.formula.api as sm\n",
    "idbm_model5 = sm.ols(\"imdb_score~num_critic_for_reviews+duration+num_user_for_reviews+movie_facebook_likes\",datac)\n",
    "idbm5 = idbm_model5.fit()\n",
    "print(idbm5.summary())"
   ]
  },
  {
   "cell_type": "code",
   "execution_count": 619,
   "metadata": {
    "slideshow": {
     "slide_type": "-"
    }
   },
   "outputs": [
    {
     "name": "stdout",
     "output_type": "stream",
     "text": [
      "Coefficients:  [0.04992924]\n",
      "y-intercept  100.63708838515292\n"
     ]
    }
   ],
   "source": [
    "X = datac['num_critic_for_reviews']\n",
    "y = datac['duration'] \n",
    "model5= lm.LinearRegression()\n",
    "model5.fit(X[:,np.newaxis], y)\n",
    "model5_y = model5.predict(X[:,np.newaxis])\n",
    "print ('Coefficients: ', model5.coef_)\n",
    "print (\"y-intercept \", model5.intercept_)"
   ]
  },
  {
   "cell_type": "code",
   "execution_count": 620,
   "metadata": {
    "slideshow": {
     "slide_type": "-"
    }
   },
   "outputs": [
    {
     "name": "stdout",
     "output_type": "stream",
     "text": [
      "mean square error:  6.227528941555377e-29\n",
      "variance or r-squared:  1.0\n"
     ]
    }
   ],
   "source": [
    "model5 = lm.LinearRegression()\n",
    "model5.fit(X_new, y)\n",
    "model5_y = model5.predict(X_new)\n",
    "\n",
    "print (\"mean square error: \", mean_squared_error(y, model5_y))\n",
    "print (\"variance or r-squared: \", explained_variance_score(y, model5_y))"
   ]
  },
  {
   "cell_type": "markdown",
   "metadata": {
    "slideshow": {
     "slide_type": "slide"
    }
   },
   "source": [
    "# Corrolation Heat Map "
   ]
  },
  {
   "cell_type": "code",
   "execution_count": 621,
   "metadata": {
    "slideshow": {
     "slide_type": "slide"
    }
   },
   "outputs": [
    {
     "data": {
      "text/plain": [
       "<matplotlib.axes._subplots.AxesSubplot at 0x1c2846b748>"
      ]
     },
     "execution_count": 621,
     "metadata": {},
     "output_type": "execute_result"
    },
    {
     "data": {
      "image/png": "[encoded data removed]",
      "text/plain": [
       "<Figure size 576x576 with 2 Axes>"
      ]
     },
     "metadata": {
      "needs_background": "light"
     },
     "output_type": "display_data"
    }
   ],
   "source": [
    "plt.figure(figsize=(8,8))\n",
    "sns.heatmap(datac.corr(), annot=True)"
   ]
  },
  {
   "cell_type": "code",
   "execution_count": 622,
   "metadata": {},
   "outputs": [
    {
     "data": {
      "text/html": [
       "<div>\n",
       "<style scoped>\n",
       "    .dataframe tbody tr th:only-of-type {\n",
       "        vertical-align: middle;\n",
       "    }\n",
       "\n",
       "    .dataframe tbody tr th {\n",
       "        vertical-align: top;\n",
       "    }\n",
       "\n",
       "    .dataframe thead th {\n",
       "        text-align: right;\n",
       "    }\n",
       "</style>\n",
       "<table border=\"1\" class=\"dataframe\">\n",
       "  <thead>\n",
       "    <tr style=\"text-align: right;\">\n",
       "      <th></th>\n",
       "      <th>level_0</th>\n",
       "      <th>index</th>\n",
       "      <th>director_name</th>\n",
       "      <th>num_critic_for_reviews</th>\n",
       "      <th>duration</th>\n",
       "      <th>director_facebook_likes</th>\n",
       "      <th>actor_1_facebook_likes</th>\n",
       "      <th>gross</th>\n",
       "      <th>genres</th>\n",
       "      <th>actor_1_name</th>\n",
       "      <th>...</th>\n",
       "      <th>num_voted_users</th>\n",
       "      <th>cast_total_facebook_likes</th>\n",
       "      <th>num_user_for_reviews</th>\n",
       "      <th>language</th>\n",
       "      <th>country</th>\n",
       "      <th>content_rating</th>\n",
       "      <th>budget</th>\n",
       "      <th>title_year</th>\n",
       "      <th>imdb_score</th>\n",
       "      <th>movie_facebook_likes</th>\n",
       "    </tr>\n",
       "  </thead>\n",
       "  <tbody>\n",
       "    <tr>\n",
       "      <th>0</th>\n",
       "      <td>0</td>\n",
       "      <td>0</td>\n",
       "      <td>James Cameron</td>\n",
       "      <td>723.0</td>\n",
       "      <td>178.0</td>\n",
       "      <td>0.0</td>\n",
       "      <td>1000.0</td>\n",
       "      <td>760505847.0</td>\n",
       "      <td>Action</td>\n",
       "      <td>CCH Pounder</td>\n",
       "      <td>...</td>\n",
       "      <td>886204</td>\n",
       "      <td>4834</td>\n",
       "      <td>3054.0</td>\n",
       "      <td>English</td>\n",
       "      <td>USA</td>\n",
       "      <td>PG-13</td>\n",
       "      <td>237000000.0</td>\n",
       "      <td>2009.0</td>\n",
       "      <td>7.9</td>\n",
       "      <td>33000</td>\n",
       "    </tr>\n",
       "    <tr>\n",
       "      <th>1</th>\n",
       "      <td>1</td>\n",
       "      <td>1</td>\n",
       "      <td>Gore Verbinski</td>\n",
       "      <td>302.0</td>\n",
       "      <td>169.0</td>\n",
       "      <td>563.0</td>\n",
       "      <td>40000.0</td>\n",
       "      <td>309404152.0</td>\n",
       "      <td>Action</td>\n",
       "      <td>Johnny Depp</td>\n",
       "      <td>...</td>\n",
       "      <td>471220</td>\n",
       "      <td>48350</td>\n",
       "      <td>1238.0</td>\n",
       "      <td>English</td>\n",
       "      <td>USA</td>\n",
       "      <td>PG-13</td>\n",
       "      <td>300000000.0</td>\n",
       "      <td>2007.0</td>\n",
       "      <td>7.1</td>\n",
       "      <td>0</td>\n",
       "    </tr>\n",
       "    <tr>\n",
       "      <th>2</th>\n",
       "      <td>2</td>\n",
       "      <td>3</td>\n",
       "      <td>Christopher Nolan</td>\n",
       "      <td>813.0</td>\n",
       "      <td>164.0</td>\n",
       "      <td>22000.0</td>\n",
       "      <td>27000.0</td>\n",
       "      <td>448130642.0</td>\n",
       "      <td>Thriller</td>\n",
       "      <td>Tom Hardy</td>\n",
       "      <td>...</td>\n",
       "      <td>1144337</td>\n",
       "      <td>106759</td>\n",
       "      <td>2701.0</td>\n",
       "      <td>English</td>\n",
       "      <td>USA</td>\n",
       "      <td>PG-13</td>\n",
       "      <td>250000000.0</td>\n",
       "      <td>2012.0</td>\n",
       "      <td>8.5</td>\n",
       "      <td>164000</td>\n",
       "    </tr>\n",
       "    <tr>\n",
       "      <th>3</th>\n",
       "      <td>3</td>\n",
       "      <td>5</td>\n",
       "      <td>Andrew Stanton</td>\n",
       "      <td>462.0</td>\n",
       "      <td>132.0</td>\n",
       "      <td>475.0</td>\n",
       "      <td>640.0</td>\n",
       "      <td>73058679.0</td>\n",
       "      <td>Adventure</td>\n",
       "      <td>Daryl Sabara</td>\n",
       "      <td>...</td>\n",
       "      <td>212204</td>\n",
       "      <td>1873</td>\n",
       "      <td>738.0</td>\n",
       "      <td>English</td>\n",
       "      <td>USA</td>\n",
       "      <td>PG-13</td>\n",
       "      <td>263700000.0</td>\n",
       "      <td>2012.0</td>\n",
       "      <td>6.6</td>\n",
       "      <td>24000</td>\n",
       "    </tr>\n",
       "    <tr>\n",
       "      <th>4</th>\n",
       "      <td>4</td>\n",
       "      <td>6</td>\n",
       "      <td>Sam Raimi</td>\n",
       "      <td>392.0</td>\n",
       "      <td>156.0</td>\n",
       "      <td>0.0</td>\n",
       "      <td>24000.0</td>\n",
       "      <td>336530303.0</td>\n",
       "      <td>Action</td>\n",
       "      <td>J.K. Simmons</td>\n",
       "      <td>...</td>\n",
       "      <td>383056</td>\n",
       "      <td>46055</td>\n",
       "      <td>1902.0</td>\n",
       "      <td>English</td>\n",
       "      <td>USA</td>\n",
       "      <td>PG-13</td>\n",
       "      <td>258000000.0</td>\n",
       "      <td>2007.0</td>\n",
       "      <td>6.2</td>\n",
       "      <td>0</td>\n",
       "    </tr>\n",
       "  </tbody>\n",
       "</table>\n",
       "<p>5 rows × 21 columns</p>\n",
       "</div>"
      ],
      "text/plain": [
       "   level_0  index      director_name  num_critic_for_reviews  duration  \\\n",
       "0        0      0      James Cameron                   723.0     178.0   \n",
       "1        1      1     Gore Verbinski                   302.0     169.0   \n",
       "2        2      3  Christopher Nolan                   813.0     164.0   \n",
       "3        3      5     Andrew Stanton                   462.0     132.0   \n",
       "4        4      6          Sam Raimi                   392.0     156.0   \n",
       "\n",
       "   director_facebook_likes  actor_1_facebook_likes        gross     genres  \\\n",
       "0                      0.0                  1000.0  760505847.0     Action   \n",
       "1                    563.0                 40000.0  309404152.0     Action   \n",
       "2                  22000.0                 27000.0  448130642.0   Thriller   \n",
       "3                    475.0                   640.0   73058679.0  Adventure   \n",
       "4                      0.0                 24000.0  336530303.0     Action   \n",
       "\n",
       "   actor_1_name  ... num_voted_users  cast_total_facebook_likes  \\\n",
       "0   CCH Pounder  ...          886204                       4834   \n",
       "1   Johnny Depp  ...          471220                      48350   \n",
       "2     Tom Hardy  ...         1144337                     106759   \n",
       "3  Daryl Sabara  ...          212204                       1873   \n",
       "4  J.K. Simmons  ...          383056                      46055   \n",
       "\n",
       "   num_user_for_reviews  language country content_rating       budget  \\\n",
       "0                3054.0   English     USA          PG-13  237000000.0   \n",
       "1                1238.0   English     USA          PG-13  300000000.0   \n",
       "2                2701.0   English     USA          PG-13  250000000.0   \n",
       "3                 738.0   English     USA          PG-13  263700000.0   \n",
       "4                1902.0   English     USA          PG-13  258000000.0   \n",
       "\n",
       "   title_year  imdb_score  movie_facebook_likes  \n",
       "0      2009.0         7.9                 33000  \n",
       "1      2007.0         7.1                     0  \n",
       "2      2012.0         8.5                164000  \n",
       "3      2012.0         6.6                 24000  \n",
       "4      2007.0         6.2                     0  \n",
       "\n",
       "[5 rows x 21 columns]"
      ]
     },
     "execution_count": 622,
     "metadata": {},
     "output_type": "execute_result"
    }
   ],
   "source": [
    "df.head()"
   ]
  },
  {
   "cell_type": "markdown",
   "metadata": {
    "slideshow": {
     "slide_type": "-"
    }
   },
   "source": [
    "# Adding a dumby variable so that we can have a category of 4 bins. Bad, Ok, Good, Excellent "
   ]
  },
  {
   "cell_type": "code",
   "execution_count": 623,
   "metadata": {
    "slideshow": {
     "slide_type": "-"
    }
   },
   "outputs": [
    {
     "data": {
      "text/html": [
       "<div>\n",
       "<style scoped>\n",
       "    .dataframe tbody tr th:only-of-type {\n",
       "        vertical-align: middle;\n",
       "    }\n",
       "\n",
       "    .dataframe tbody tr th {\n",
       "        vertical-align: top;\n",
       "    }\n",
       "\n",
       "    .dataframe thead th {\n",
       "        text-align: right;\n",
       "    }\n",
       "</style>\n",
       "<table border=\"1\" class=\"dataframe\">\n",
       "  <thead>\n",
       "    <tr style=\"text-align: right;\">\n",
       "      <th></th>\n",
       "      <th>level_0</th>\n",
       "      <th>index</th>\n",
       "      <th>director_name</th>\n",
       "      <th>num_critic_for_reviews</th>\n",
       "      <th>duration</th>\n",
       "      <th>director_facebook_likes</th>\n",
       "      <th>actor_1_facebook_likes</th>\n",
       "      <th>gross</th>\n",
       "      <th>genres</th>\n",
       "      <th>actor_1_name</th>\n",
       "      <th>...</th>\n",
       "      <th>cast_total_facebook_likes</th>\n",
       "      <th>num_user_for_reviews</th>\n",
       "      <th>language</th>\n",
       "      <th>country</th>\n",
       "      <th>content_rating</th>\n",
       "      <th>budget</th>\n",
       "      <th>title_year</th>\n",
       "      <th>imdb_score</th>\n",
       "      <th>movie_facebook_likes</th>\n",
       "      <th>imdbscore_category</th>\n",
       "    </tr>\n",
       "  </thead>\n",
       "  <tbody>\n",
       "    <tr>\n",
       "      <th>0</th>\n",
       "      <td>0</td>\n",
       "      <td>0</td>\n",
       "      <td>James Cameron</td>\n",
       "      <td>723.0</td>\n",
       "      <td>178.0</td>\n",
       "      <td>0.0</td>\n",
       "      <td>1000.0</td>\n",
       "      <td>760505847.0</td>\n",
       "      <td>Action</td>\n",
       "      <td>CCH Pounder</td>\n",
       "      <td>...</td>\n",
       "      <td>4834</td>\n",
       "      <td>3054.0</td>\n",
       "      <td>English</td>\n",
       "      <td>USA</td>\n",
       "      <td>PG-13</td>\n",
       "      <td>237000000.0</td>\n",
       "      <td>2009.0</td>\n",
       "      <td>7.9</td>\n",
       "      <td>33000</td>\n",
       "      <td>excellent</td>\n",
       "    </tr>\n",
       "    <tr>\n",
       "      <th>1</th>\n",
       "      <td>1</td>\n",
       "      <td>1</td>\n",
       "      <td>Gore Verbinski</td>\n",
       "      <td>302.0</td>\n",
       "      <td>169.0</td>\n",
       "      <td>563.0</td>\n",
       "      <td>40000.0</td>\n",
       "      <td>309404152.0</td>\n",
       "      <td>Action</td>\n",
       "      <td>Johnny Depp</td>\n",
       "      <td>...</td>\n",
       "      <td>48350</td>\n",
       "      <td>1238.0</td>\n",
       "      <td>English</td>\n",
       "      <td>USA</td>\n",
       "      <td>PG-13</td>\n",
       "      <td>300000000.0</td>\n",
       "      <td>2007.0</td>\n",
       "      <td>7.1</td>\n",
       "      <td>0</td>\n",
       "      <td>excellent</td>\n",
       "    </tr>\n",
       "    <tr>\n",
       "      <th>2</th>\n",
       "      <td>2</td>\n",
       "      <td>3</td>\n",
       "      <td>Christopher Nolan</td>\n",
       "      <td>813.0</td>\n",
       "      <td>164.0</td>\n",
       "      <td>22000.0</td>\n",
       "      <td>27000.0</td>\n",
       "      <td>448130642.0</td>\n",
       "      <td>Thriller</td>\n",
       "      <td>Tom Hardy</td>\n",
       "      <td>...</td>\n",
       "      <td>106759</td>\n",
       "      <td>2701.0</td>\n",
       "      <td>English</td>\n",
       "      <td>USA</td>\n",
       "      <td>PG-13</td>\n",
       "      <td>250000000.0</td>\n",
       "      <td>2012.0</td>\n",
       "      <td>8.5</td>\n",
       "      <td>164000</td>\n",
       "      <td>NaN</td>\n",
       "    </tr>\n",
       "    <tr>\n",
       "      <th>3</th>\n",
       "      <td>3</td>\n",
       "      <td>5</td>\n",
       "      <td>Andrew Stanton</td>\n",
       "      <td>462.0</td>\n",
       "      <td>132.0</td>\n",
       "      <td>475.0</td>\n",
       "      <td>640.0</td>\n",
       "      <td>73058679.0</td>\n",
       "      <td>Adventure</td>\n",
       "      <td>Daryl Sabara</td>\n",
       "      <td>...</td>\n",
       "      <td>1873</td>\n",
       "      <td>738.0</td>\n",
       "      <td>English</td>\n",
       "      <td>USA</td>\n",
       "      <td>PG-13</td>\n",
       "      <td>263700000.0</td>\n",
       "      <td>2012.0</td>\n",
       "      <td>6.6</td>\n",
       "      <td>24000</td>\n",
       "      <td>excellent</td>\n",
       "    </tr>\n",
       "    <tr>\n",
       "      <th>4</th>\n",
       "      <td>4</td>\n",
       "      <td>6</td>\n",
       "      <td>Sam Raimi</td>\n",
       "      <td>392.0</td>\n",
       "      <td>156.0</td>\n",
       "      <td>0.0</td>\n",
       "      <td>24000.0</td>\n",
       "      <td>336530303.0</td>\n",
       "      <td>Action</td>\n",
       "      <td>J.K. Simmons</td>\n",
       "      <td>...</td>\n",
       "      <td>46055</td>\n",
       "      <td>1902.0</td>\n",
       "      <td>English</td>\n",
       "      <td>USA</td>\n",
       "      <td>PG-13</td>\n",
       "      <td>258000000.0</td>\n",
       "      <td>2007.0</td>\n",
       "      <td>6.2</td>\n",
       "      <td>0</td>\n",
       "      <td>excellent</td>\n",
       "    </tr>\n",
       "  </tbody>\n",
       "</table>\n",
       "<p>5 rows × 22 columns</p>\n",
       "</div>"
      ],
      "text/plain": [
       "   level_0  index      director_name  num_critic_for_reviews  duration  \\\n",
       "0        0      0      James Cameron                   723.0     178.0   \n",
       "1        1      1     Gore Verbinski                   302.0     169.0   \n",
       "2        2      3  Christopher Nolan                   813.0     164.0   \n",
       "3        3      5     Andrew Stanton                   462.0     132.0   \n",
       "4        4      6          Sam Raimi                   392.0     156.0   \n",
       "\n",
       "   director_facebook_likes  actor_1_facebook_likes        gross     genres  \\\n",
       "0                      0.0                  1000.0  760505847.0     Action   \n",
       "1                    563.0                 40000.0  309404152.0     Action   \n",
       "2                  22000.0                 27000.0  448130642.0   Thriller   \n",
       "3                    475.0                   640.0   73058679.0  Adventure   \n",
       "4                      0.0                 24000.0  336530303.0     Action   \n",
       "\n",
       "   actor_1_name  ... cast_total_facebook_likes  num_user_for_reviews  \\\n",
       "0   CCH Pounder  ...                      4834                3054.0   \n",
       "1   Johnny Depp  ...                     48350                1238.0   \n",
       "2     Tom Hardy  ...                    106759                2701.0   \n",
       "3  Daryl Sabara  ...                      1873                 738.0   \n",
       "4  J.K. Simmons  ...                     46055                1902.0   \n",
       "\n",
       "   language  country content_rating       budget title_year  imdb_score  \\\n",
       "0   English      USA          PG-13  237000000.0     2009.0         7.9   \n",
       "1   English      USA          PG-13  300000000.0     2007.0         7.1   \n",
       "2   English      USA          PG-13  250000000.0     2012.0         8.5   \n",
       "3   English      USA          PG-13  263700000.0     2012.0         6.6   \n",
       "4   English      USA          PG-13  258000000.0     2007.0         6.2   \n",
       "\n",
       "   movie_facebook_likes  imdbscore_category  \n",
       "0                 33000           excellent  \n",
       "1                     0           excellent  \n",
       "2                164000                 NaN  \n",
       "3                 24000           excellent  \n",
       "4                     0           excellent  \n",
       "\n",
       "[5 rows x 22 columns]"
      ]
     },
     "execution_count": 623,
     "metadata": {},
     "output_type": "execute_result"
    }
   ],
   "source": [
    "df5 = df\n",
    "# setting my own values for bins\n",
    "df5['imdbscore_category'] = pd.cut(df5['imdb_score'], bins=[0, 2, 4, 6, 8], labels=['bad','okay', 'good', 'excellent'])\n",
    "# see the result\n",
    "df5.head()"
   ]
  },
  {
   "cell_type": "code",
   "execution_count": 624,
   "metadata": {
    "slideshow": {
     "slide_type": "-"
    }
   },
   "outputs": [
    {
     "name": "stdout",
     "output_type": "stream",
     "text": [
      "(3422,) (3422, 21)\n"
     ]
    }
   ],
   "source": [
    "y = df5['imdbscore_category']\n",
    "X = df5.drop([\"imdbscore_category\"], axis=1)\n",
    "\n",
    "print(y.shape, X.shape)"
   ]
  },
  {
   "cell_type": "code",
   "execution_count": 625,
   "metadata": {},
   "outputs": [
    {
     "name": "stdout",
     "output_type": "stream",
     "text": [
      "<class 'pandas.core.frame.DataFrame'>\n",
      "Int64Index: 3297 entries, 0 to 3421\n",
      "Data columns (total 22 columns):\n",
      "level_0                      3297 non-null int64\n",
      "index                        3297 non-null int64\n",
      "director_name                3297 non-null object\n",
      "num_critic_for_reviews       3297 non-null float64\n",
      "duration                     3297 non-null float64\n",
      "director_facebook_likes      3297 non-null float64\n",
      "actor_1_facebook_likes       3297 non-null float64\n",
      "gross                        3297 non-null float64\n",
      "genres                       3297 non-null object\n",
      "actor_1_name                 3297 non-null object\n",
      "movie_title                  3297 non-null object\n",
      "num_voted_users              3297 non-null int64\n",
      "cast_total_facebook_likes    3297 non-null int64\n",
      "num_user_for_reviews         3297 non-null float64\n",
      "language                     3297 non-null object\n",
      "country                      3297 non-null object\n",
      "content_rating               3297 non-null object\n",
      "budget                       3297 non-null float64\n",
      "title_year                   3297 non-null float64\n",
      "imdb_score                   3297 non-null float64\n",
      "movie_facebook_likes         3297 non-null int64\n",
      "imdbscore_category           3297 non-null category\n",
      "dtypes: category(1), float64(9), int64(5), object(7)\n",
      "memory usage: 570.1+ KB\n"
     ]
    }
   ],
   "source": [
    "df5 = df5.dropna()\n",
    "df5.info()"
   ]
  },
  {
   "cell_type": "code",
   "execution_count": 626,
   "metadata": {},
   "outputs": [
    {
     "name": "stdout",
     "output_type": "stream",
     "text": [
      "<class 'pandas.core.frame.DataFrame'>\n",
      "Int64Index: 3297 entries, 0 to 3421\n",
      "Data columns (total 15 columns):\n",
      "level_0                      3297 non-null int64\n",
      "index                        3297 non-null int64\n",
      "num_critic_for_reviews       3297 non-null float64\n",
      "duration                     3297 non-null float64\n",
      "director_facebook_likes      3297 non-null float64\n",
      "actor_1_facebook_likes       3297 non-null float64\n",
      "gross                        3297 non-null float64\n",
      "num_voted_users              3297 non-null int64\n",
      "cast_total_facebook_likes    3297 non-null int64\n",
      "num_user_for_reviews         3297 non-null float64\n",
      "budget                       3297 non-null float64\n",
      "title_year                   3297 non-null float64\n",
      "imdb_score                   3297 non-null float64\n",
      "movie_facebook_likes         3297 non-null int64\n",
      "imdbscore_category           3297 non-null category\n",
      "dtypes: category(1), float64(9), int64(5)\n",
      "memory usage: 389.8 KB\n"
     ]
    }
   ],
   "source": [
    "df5 = df5.drop(['director_name', 'genres', 'actor_1_name', 'movie_title', 'language', 'country', 'content_rating'], axis = 1)\n",
    "df5.info()"
   ]
  },
  {
   "cell_type": "code",
   "execution_count": 627,
   "metadata": {},
   "outputs": [
    {
     "name": "stdout",
     "output_type": "stream",
     "text": [
      "<class 'pandas.core.frame.DataFrame'>\n",
      "Int64Index: 3297 entries, 0 to 3421\n",
      "Data columns (total 15 columns):\n",
      "level_0                      3297 non-null int64\n",
      "index                        3297 non-null int64\n",
      "num_critic_for_reviews       3297 non-null float64\n",
      "duration                     3297 non-null float64\n",
      "director_facebook_likes      3297 non-null float64\n",
      "actor_1_facebook_likes       3297 non-null float64\n",
      "gross                        3297 non-null float64\n",
      "num_voted_users              3297 non-null int64\n",
      "cast_total_facebook_likes    3297 non-null int64\n",
      "num_user_for_reviews         3297 non-null float64\n",
      "budget                       3297 non-null float64\n",
      "title_year                   3297 non-null float64\n",
      "imdb_score                   3297 non-null float64\n",
      "movie_facebook_likes         3297 non-null int64\n",
      "imdbscore_category           3297 non-null category\n",
      "dtypes: category(1), float64(9), int64(5)\n",
      "memory usage: 389.8 KB\n"
     ]
    },
    {
     "data": {
      "text/html": [
       "<div>\n",
       "<style scoped>\n",
       "    .dataframe tbody tr th:only-of-type {\n",
       "        vertical-align: middle;\n",
       "    }\n",
       "\n",
       "    .dataframe tbody tr th {\n",
       "        vertical-align: top;\n",
       "    }\n",
       "\n",
       "    .dataframe thead th {\n",
       "        text-align: right;\n",
       "    }\n",
       "</style>\n",
       "<table border=\"1\" class=\"dataframe\">\n",
       "  <thead>\n",
       "    <tr style=\"text-align: right;\">\n",
       "      <th></th>\n",
       "      <th>level_0</th>\n",
       "      <th>index</th>\n",
       "      <th>num_critic_for_reviews</th>\n",
       "      <th>duration</th>\n",
       "      <th>director_facebook_likes</th>\n",
       "      <th>actor_1_facebook_likes</th>\n",
       "      <th>gross</th>\n",
       "      <th>num_voted_users</th>\n",
       "      <th>cast_total_facebook_likes</th>\n",
       "      <th>num_user_for_reviews</th>\n",
       "      <th>budget</th>\n",
       "      <th>title_year</th>\n",
       "      <th>imdb_score</th>\n",
       "      <th>movie_facebook_likes</th>\n",
       "      <th>imdbscore_category</th>\n",
       "    </tr>\n",
       "  </thead>\n",
       "  <tbody>\n",
       "    <tr>\n",
       "      <th>0</th>\n",
       "      <td>0</td>\n",
       "      <td>0</td>\n",
       "      <td>723.0</td>\n",
       "      <td>178.0</td>\n",
       "      <td>0.0</td>\n",
       "      <td>1000.0</td>\n",
       "      <td>760505847.0</td>\n",
       "      <td>886204</td>\n",
       "      <td>4834</td>\n",
       "      <td>3054.0</td>\n",
       "      <td>237000000.0</td>\n",
       "      <td>2009.0</td>\n",
       "      <td>7.9</td>\n",
       "      <td>33000</td>\n",
       "      <td>excellent</td>\n",
       "    </tr>\n",
       "    <tr>\n",
       "      <th>1</th>\n",
       "      <td>1</td>\n",
       "      <td>1</td>\n",
       "      <td>302.0</td>\n",
       "      <td>169.0</td>\n",
       "      <td>563.0</td>\n",
       "      <td>40000.0</td>\n",
       "      <td>309404152.0</td>\n",
       "      <td>471220</td>\n",
       "      <td>48350</td>\n",
       "      <td>1238.0</td>\n",
       "      <td>300000000.0</td>\n",
       "      <td>2007.0</td>\n",
       "      <td>7.1</td>\n",
       "      <td>0</td>\n",
       "      <td>excellent</td>\n",
       "    </tr>\n",
       "    <tr>\n",
       "      <th>3</th>\n",
       "      <td>3</td>\n",
       "      <td>5</td>\n",
       "      <td>462.0</td>\n",
       "      <td>132.0</td>\n",
       "      <td>475.0</td>\n",
       "      <td>640.0</td>\n",
       "      <td>73058679.0</td>\n",
       "      <td>212204</td>\n",
       "      <td>1873</td>\n",
       "      <td>738.0</td>\n",
       "      <td>263700000.0</td>\n",
       "      <td>2012.0</td>\n",
       "      <td>6.6</td>\n",
       "      <td>24000</td>\n",
       "      <td>excellent</td>\n",
       "    </tr>\n",
       "    <tr>\n",
       "      <th>4</th>\n",
       "      <td>4</td>\n",
       "      <td>6</td>\n",
       "      <td>392.0</td>\n",
       "      <td>156.0</td>\n",
       "      <td>0.0</td>\n",
       "      <td>24000.0</td>\n",
       "      <td>336530303.0</td>\n",
       "      <td>383056</td>\n",
       "      <td>46055</td>\n",
       "      <td>1902.0</td>\n",
       "      <td>258000000.0</td>\n",
       "      <td>2007.0</td>\n",
       "      <td>6.2</td>\n",
       "      <td>0</td>\n",
       "      <td>excellent</td>\n",
       "    </tr>\n",
       "    <tr>\n",
       "      <th>5</th>\n",
       "      <td>5</td>\n",
       "      <td>7</td>\n",
       "      <td>324.0</td>\n",
       "      <td>100.0</td>\n",
       "      <td>15.0</td>\n",
       "      <td>799.0</td>\n",
       "      <td>200807262.0</td>\n",
       "      <td>294810</td>\n",
       "      <td>2036</td>\n",
       "      <td>387.0</td>\n",
       "      <td>260000000.0</td>\n",
       "      <td>2010.0</td>\n",
       "      <td>7.8</td>\n",
       "      <td>29000</td>\n",
       "      <td>excellent</td>\n",
       "    </tr>\n",
       "  </tbody>\n",
       "</table>\n",
       "</div>"
      ],
      "text/plain": [
       "   level_0  index  num_critic_for_reviews  duration  director_facebook_likes  \\\n",
       "0        0      0                   723.0     178.0                      0.0   \n",
       "1        1      1                   302.0     169.0                    563.0   \n",
       "3        3      5                   462.0     132.0                    475.0   \n",
       "4        4      6                   392.0     156.0                      0.0   \n",
       "5        5      7                   324.0     100.0                     15.0   \n",
       "\n",
       "   actor_1_facebook_likes        gross  num_voted_users  \\\n",
       "0                  1000.0  760505847.0           886204   \n",
       "1                 40000.0  309404152.0           471220   \n",
       "3                   640.0   73058679.0           212204   \n",
       "4                 24000.0  336530303.0           383056   \n",
       "5                   799.0  200807262.0           294810   \n",
       "\n",
       "   cast_total_facebook_likes  num_user_for_reviews       budget  title_year  \\\n",
       "0                       4834                3054.0  237000000.0      2009.0   \n",
       "1                      48350                1238.0  300000000.0      2007.0   \n",
       "3                       1873                 738.0  263700000.0      2012.0   \n",
       "4                      46055                1902.0  258000000.0      2007.0   \n",
       "5                       2036                 387.0  260000000.0      2010.0   \n",
       "\n",
       "   imdb_score  movie_facebook_likes imdbscore_category  \n",
       "0         7.9                 33000          excellent  \n",
       "1         7.1                     0          excellent  \n",
       "3         6.6                 24000          excellent  \n",
       "4         6.2                     0          excellent  \n",
       "5         7.8                 29000          excellent  "
      ]
     },
     "execution_count": 627,
     "metadata": {},
     "output_type": "execute_result"
    }
   ],
   "source": [
    "df5 = df5.dropna()\n",
    "df5.info()\n",
    "df5.head()"
   ]
  },
  {
   "cell_type": "markdown",
   "metadata": {
    "slideshow": {
     "slide_type": "slide"
    }
   },
   "source": [
    "# Running decision tree models"
   ]
  },
  {
   "cell_type": "markdown",
   "metadata": {},
   "source": [
    "### The next 5 sections of code are all part of the decision tree model. A desision tree is a lo like a flow chart with each stop having a rule. This can be used for both classification and regression. "
   ]
  },
  {
   "cell_type": "code",
   "execution_count": 628,
   "metadata": {
    "slideshow": {
     "slide_type": "-"
    }
   },
   "outputs": [
    {
     "name": "stdout",
     "output_type": "stream",
     "text": [
      "(3297,) (3297, 14)\n"
     ]
    }
   ],
   "source": [
    "y = df5['imdbscore_category']\n",
    "X = df5.drop([\"imdbscore_category\"], axis=1)\n",
    "\n",
    "print(y.shape, X.shape)"
   ]
  },
  {
   "cell_type": "code",
   "execution_count": 629,
   "metadata": {
    "slideshow": {
     "slide_type": "-"
    }
   },
   "outputs": [],
   "source": [
    "# split validation\n",
    "X_train, X_test, y_train, y_test = train_test_split(X, y, test_size=0.3, random_state=42)\n",
    "\n",
    "# Initialize DecisionTreeClassifier() ... name your decision model \"dt\"\n",
    "dt= DecisionTreeClassifier()\n",
    "\n",
    "# Train a decision tree model\n",
    "dt=dt.fit(X_train, y_train)\n"
   ]
  },
  {
   "cell_type": "code",
   "execution_count": 630,
   "metadata": {},
   "outputs": [],
   "source": [
    "def base_rate_model(X) :\n",
    "    y = np.zeros(X.shape[0])\n",
    "    return y"
   ]
  },
  {
   "cell_type": "code",
   "execution_count": 631,
   "metadata": {},
   "outputs": [
    {
     "name": "stdout",
     "output_type": "stream",
     "text": [
      "<class 'pandas.core.frame.DataFrame'>\n",
      "Int64Index: 3297 entries, 0 to 3421\n",
      "Data columns (total 15 columns):\n",
      "level_0                      3297 non-null int64\n",
      "index                        3297 non-null int64\n",
      "num_critic_for_reviews       3297 non-null float64\n",
      "duration                     3297 non-null float64\n",
      "director_facebook_likes      3297 non-null float64\n",
      "actor_1_facebook_likes       3297 non-null float64\n",
      "gross                        3297 non-null float64\n",
      "num_voted_users              3297 non-null int64\n",
      "cast_total_facebook_likes    3297 non-null int64\n",
      "num_user_for_reviews         3297 non-null float64\n",
      "budget                       3297 non-null float64\n",
      "title_year                   3297 non-null float64\n",
      "imdb_score                   3297 non-null float64\n",
      "movie_facebook_likes         3297 non-null int64\n",
      "imdbscore_category           3297 non-null category\n",
      "dtypes: category(1), float64(9), int64(5)\n",
      "memory usage: 389.8 KB\n"
     ]
    }
   ],
   "source": [
    "df5.info()\n"
   ]
  },
  {
   "cell_type": "code",
   "execution_count": 632,
   "metadata": {},
   "outputs": [
    {
     "name": "stdout",
     "output_type": "stream",
     "text": [
      "<class 'pandas.core.frame.DataFrame'>\n",
      "Int64Index: 3297 entries, 0 to 3421\n",
      "Data columns (total 15 columns):\n",
      "level_0                      3297 non-null int64\n",
      "index                        3297 non-null int64\n",
      "num_critic_for_reviews       3297 non-null float64\n",
      "duration                     3297 non-null float64\n",
      "director_facebook_likes      3297 non-null float64\n",
      "actor_1_facebook_likes       3297 non-null float64\n",
      "gross                        3297 non-null float64\n",
      "num_voted_users              3297 non-null int64\n",
      "cast_total_facebook_likes    3297 non-null int64\n",
      "num_user_for_reviews         3297 non-null float64\n",
      "budget                       3297 non-null float64\n",
      "title_year                   3297 non-null float64\n",
      "imdb_score                   3297 non-null float64\n",
      "movie_facebook_likes         3297 non-null int64\n",
      "imdbscore_category           3297 non-null category\n",
      "dtypes: category(1), float64(9), int64(5)\n",
      "memory usage: 389.8 KB\n"
     ]
    }
   ],
   "source": [
    "y = df5['imdbscore_category']\n",
    "X = df5.drop(['imdbscore_category'], axis=1)\n",
    "df5.info()"
   ]
  },
  {
   "cell_type": "code",
   "execution_count": 633,
   "metadata": {
    "slideshow": {
     "slide_type": "-"
    }
   },
   "outputs": [
    {
     "name": "stderr",
     "output_type": "stream",
     "text": [
      "/Users/milesvincent/anaconda3/lib/python3.7/site-packages/sklearn/linear_model/logistic.py:432: FutureWarning: Default solver will be changed to 'lbfgs' in 0.22. Specify a solver to silence this warning.\n",
      "  FutureWarning)\n",
      "/Users/milesvincent/anaconda3/lib/python3.7/site-packages/sklearn/linear_model/logistic.py:469: FutureWarning: Default multi_class will be changed to 'auto' in 0.22. Specify the multi_class option to silence this warning.\n",
      "  \"this warning.\", FutureWarning)\n"
     ]
    },
    {
     "data": {
      "text/plain": [
       "LogisticRegression(C=1.0, class_weight=None, dual=False, fit_intercept=True,\n",
       "                   intercept_scaling=1, l1_ratio=None, max_iter=100,\n",
       "                   multi_class='warn', n_jobs=None, penalty='l2',\n",
       "                   random_state=None, solver='warn', tol=0.0001, verbose=0,\n",
       "                   warm_start=False)"
      ]
     },
     "execution_count": 633,
     "metadata": {},
     "output_type": "execute_result"
    }
   ],
   "source": [
    "X_train, X_test, y_train, y_test = train_test_split(X, y, test_size=0.3, random_state=0)\n",
    "lr= LogisticRegression()\n",
    "\n",
    "lr.fit(X_train, y_train)"
   ]
  },
  {
   "cell_type": "code",
   "execution_count": 634,
   "metadata": {
    "slideshow": {
     "slide_type": "-"
    }
   },
   "outputs": [
    {
     "name": "stdout",
     "output_type": "stream",
     "text": [
      "1.0\n",
      "--------------------------------------------------------\n",
      "[[  3   0   0   0]\n",
      " [  0 653   0   0]\n",
      " [  0   0 308   0]\n",
      " [  0   0   0  26]]\n",
      "--------------------------------------------------------\n",
      "              precision    recall  f1-score   support\n",
      "\n",
      "         bad       1.00      1.00      1.00         3\n",
      "   excellent       1.00      1.00      1.00       653\n",
      "        good       1.00      1.00      1.00       308\n",
      "        okay       1.00      1.00      1.00        26\n",
      "\n",
      "    accuracy                           1.00       990\n",
      "   macro avg       1.00      1.00      1.00       990\n",
      "weighted avg       1.00      1.00      1.00       990\n",
      "\n",
      "--------------------------------------------------------\n"
     ]
    },
    {
     "ename": "ValueError",
     "evalue": "multiclass format is not supported",
     "output_type": "error",
     "traceback": [
      "\u001b[0;31m---------------------------------------------------------------------------\u001b[0m",
      "\u001b[0;31mValueError\u001b[0m                                Traceback (most recent call last)",
      "\u001b[0;32m<ipython-input-634-941dd6815c73>\u001b[0m in \u001b[0;36m<module>\u001b[0;34m\u001b[0m\n\u001b[1;32m      5\u001b[0m \u001b[0mprint\u001b[0m\u001b[0;34m(\u001b[0m\u001b[0mmetrics\u001b[0m\u001b[0;34m.\u001b[0m\u001b[0mclassification_report\u001b[0m\u001b[0;34m(\u001b[0m\u001b[0my_test\u001b[0m\u001b[0;34m,\u001b[0m \u001b[0mdt\u001b[0m\u001b[0;34m.\u001b[0m\u001b[0mpredict\u001b[0m\u001b[0;34m(\u001b[0m\u001b[0mX_test\u001b[0m\u001b[0;34m)\u001b[0m\u001b[0;34m)\u001b[0m\u001b[0;34m)\u001b[0m\u001b[0;34m\u001b[0m\u001b[0;34m\u001b[0m\u001b[0m\n\u001b[1;32m      6\u001b[0m \u001b[0mprint\u001b[0m\u001b[0;34m(\u001b[0m\u001b[0;34m\"--------------------------------------------------------\"\u001b[0m\u001b[0;34m)\u001b[0m\u001b[0;34m\u001b[0m\u001b[0;34m\u001b[0m\u001b[0m\n\u001b[0;32m----> 7\u001b[0;31m \u001b[0mprint\u001b[0m\u001b[0;34m(\u001b[0m\u001b[0mmetrics\u001b[0m\u001b[0;34m.\u001b[0m\u001b[0mroc_auc_score\u001b[0m\u001b[0;34m(\u001b[0m\u001b[0my_test\u001b[0m\u001b[0;34m,\u001b[0m \u001b[0mdt\u001b[0m\u001b[0;34m.\u001b[0m\u001b[0mpredict\u001b[0m\u001b[0;34m(\u001b[0m\u001b[0mX_test\u001b[0m\u001b[0;34m)\u001b[0m\u001b[0;34m)\u001b[0m\u001b[0;34m)\u001b[0m\u001b[0;34m\u001b[0m\u001b[0;34m\u001b[0m\u001b[0m\n\u001b[0m",
      "\u001b[0;32m~/anaconda3/lib/python3.7/site-packages/sklearn/metrics/ranking.py\u001b[0m in \u001b[0;36mroc_auc_score\u001b[0;34m(y_true, y_score, average, sample_weight, max_fpr)\u001b[0m\n\u001b[1;32m    353\u001b[0m     return _average_binary_score(\n\u001b[1;32m    354\u001b[0m         \u001b[0m_binary_roc_auc_score\u001b[0m\u001b[0;34m,\u001b[0m \u001b[0my_true\u001b[0m\u001b[0;34m,\u001b[0m \u001b[0my_score\u001b[0m\u001b[0;34m,\u001b[0m \u001b[0maverage\u001b[0m\u001b[0;34m,\u001b[0m\u001b[0;34m\u001b[0m\u001b[0;34m\u001b[0m\u001b[0m\n\u001b[0;32m--> 355\u001b[0;31m         sample_weight=sample_weight)\n\u001b[0m\u001b[1;32m    356\u001b[0m \u001b[0;34m\u001b[0m\u001b[0m\n\u001b[1;32m    357\u001b[0m \u001b[0;34m\u001b[0m\u001b[0m\n",
      "\u001b[0;32m~/anaconda3/lib/python3.7/site-packages/sklearn/metrics/base.py\u001b[0m in \u001b[0;36m_average_binary_score\u001b[0;34m(binary_metric, y_true, y_score, average, sample_weight)\u001b[0m\n\u001b[1;32m     71\u001b[0m     \u001b[0my_type\u001b[0m \u001b[0;34m=\u001b[0m \u001b[0mtype_of_target\u001b[0m\u001b[0;34m(\u001b[0m\u001b[0my_true\u001b[0m\u001b[0;34m)\u001b[0m\u001b[0;34m\u001b[0m\u001b[0;34m\u001b[0m\u001b[0m\n\u001b[1;32m     72\u001b[0m     \u001b[0;32mif\u001b[0m \u001b[0my_type\u001b[0m \u001b[0;32mnot\u001b[0m \u001b[0;32min\u001b[0m \u001b[0;34m(\u001b[0m\u001b[0;34m\"binary\"\u001b[0m\u001b[0;34m,\u001b[0m \u001b[0;34m\"multilabel-indicator\"\u001b[0m\u001b[0;34m)\u001b[0m\u001b[0;34m:\u001b[0m\u001b[0;34m\u001b[0m\u001b[0;34m\u001b[0m\u001b[0m\n\u001b[0;32m---> 73\u001b[0;31m         \u001b[0;32mraise\u001b[0m \u001b[0mValueError\u001b[0m\u001b[0;34m(\u001b[0m\u001b[0;34m\"{0} format is not supported\"\u001b[0m\u001b[0;34m.\u001b[0m\u001b[0mformat\u001b[0m\u001b[0;34m(\u001b[0m\u001b[0my_type\u001b[0m\u001b[0;34m)\u001b[0m\u001b[0;34m)\u001b[0m\u001b[0;34m\u001b[0m\u001b[0;34m\u001b[0m\u001b[0m\n\u001b[0m\u001b[1;32m     74\u001b[0m \u001b[0;34m\u001b[0m\u001b[0m\n\u001b[1;32m     75\u001b[0m     \u001b[0;32mif\u001b[0m \u001b[0my_type\u001b[0m \u001b[0;34m==\u001b[0m \u001b[0;34m\"binary\"\u001b[0m\u001b[0;34m:\u001b[0m\u001b[0;34m\u001b[0m\u001b[0;34m\u001b[0m\u001b[0m\n",
      "\u001b[0;31mValueError\u001b[0m: multiclass format is not supported"
     ]
    }
   ],
   "source": [
    "print(metrics.accuracy_score(y_test, dt.predict(X_test)))\n",
    "print(\"--------------------------------------------------------\")\n",
    "print(metrics.confusion_matrix(y_test, dt.predict(X_test))) \n",
    "print(\"--------------------------------------------------------\")\n",
    "print(metrics.classification_report(y_test, dt.predict(X_test)))\n",
    "print(\"--------------------------------------------------------\")\n",
    "print(metrics.roc_auc_score(y_test, dt.predict(X_test)))\n"
   ]
  },
  {
   "cell_type": "code",
   "execution_count": 635,
   "metadata": {
    "slideshow": {
     "slide_type": "slide"
    }
   },
   "outputs": [
    {
     "data": {
      "image/png": "[encoded data removed]",
      "text/plain": [
       "<Figure size 432x288 with 2 Axes>"
      ]
     },
     "metadata": {
      "needs_background": "light"
     },
     "output_type": "display_data"
    }
   ],
   "source": [
    "import scikitplot as skplt\n",
    "\n",
    "skplt.metrics.plot_confusion_matrix(y_true=np.array(y_test), y_pred=dt.predict(X_test))\n",
    "plt.show()"
   ]
  },
  {
   "cell_type": "code",
   "execution_count": 636,
   "metadata": {
    "slideshow": {
     "slide_type": "slide"
    }
   },
   "outputs": [
    {
     "data": {
      "text/plain": [
       "DecisionTreeClassifier(class_weight=None, criterion='gini', max_depth=3,\n",
       "                       max_features=None, max_leaf_nodes=None,\n",
       "                       min_impurity_decrease=0.0, min_impurity_split=None,\n",
       "                       min_samples_leaf=5, min_samples_split=2,\n",
       "                       min_weight_fraction_leaf=0.0, presort=False,\n",
       "                       random_state=None, splitter='best')"
      ]
     },
     "execution_count": 636,
     "metadata": {},
     "output_type": "execute_result"
    }
   ],
   "source": [
    "# dt = DecisionTreeClassifier()    # develop a very complex (\"full-grown\") tree\n",
    "\n",
    "# You can make a simpler decision tree ... name the model \"dt_simple\" (max_depth=3, min_samples_leaf=5)\n",
    "\n",
    "\n",
    "# split validation\n",
    "X_train, X_test, y_train, y_test = train_test_split(X, y, test_size=0.3, random_state=42)\n",
    "\n",
    "# Initialize DecisionTreeClassifier() ... name your decision model \"dt\"\n",
    "dt_simple= DecisionTreeClassifier(max_depth=3, min_samples_leaf=5)\n",
    "\n",
    "# Train a decision tree model\n",
    "dt_simple=dt_simple.fit(X_train, y_train)\n",
    "\n",
    "dt_simple"
   ]
  },
  {
   "cell_type": "code",
   "execution_count": 637,
   "metadata": {
    "slideshow": {
     "slide_type": "-"
    }
   },
   "outputs": [
    {
     "name": "stdout",
     "output_type": "stream",
     "text": [
      "1.0\n",
      "[[  2   0   0   0]\n",
      " [  0 637   0   0]\n",
      " [  0   0 329   0]\n",
      " [  0   0   0  22]]\n",
      "              precision    recall  f1-score   support\n",
      "\n",
      "         bad       1.00      1.00      1.00         2\n",
      "   excellent       1.00      1.00      1.00       637\n",
      "        good       1.00      1.00      1.00       329\n",
      "        okay       1.00      1.00      1.00        22\n",
      "\n",
      "    accuracy                           1.00       990\n",
      "   macro avg       1.00      1.00      1.00       990\n",
      "weighted avg       1.00      1.00      1.00       990\n",
      "\n"
     ]
    },
    {
     "ename": "ValueError",
     "evalue": "multiclass format is not supported",
     "output_type": "error",
     "traceback": [
      "\u001b[0;31m---------------------------------------------------------------------------\u001b[0m",
      "\u001b[0;31mValueError\u001b[0m                                Traceback (most recent call last)",
      "\u001b[0;32m<ipython-input-637-417291801a87>\u001b[0m in \u001b[0;36m<module>\u001b[0;34m\u001b[0m\n\u001b[1;32m      2\u001b[0m \u001b[0mprint\u001b[0m\u001b[0;34m(\u001b[0m\u001b[0mmetrics\u001b[0m\u001b[0;34m.\u001b[0m\u001b[0mconfusion_matrix\u001b[0m\u001b[0;34m(\u001b[0m\u001b[0my_test\u001b[0m\u001b[0;34m,\u001b[0m \u001b[0mdt_simple\u001b[0m\u001b[0;34m.\u001b[0m\u001b[0mpredict\u001b[0m\u001b[0;34m(\u001b[0m\u001b[0mX_test\u001b[0m\u001b[0;34m)\u001b[0m\u001b[0;34m)\u001b[0m\u001b[0;34m)\u001b[0m\u001b[0;34m\u001b[0m\u001b[0;34m\u001b[0m\u001b[0m\n\u001b[1;32m      3\u001b[0m \u001b[0mprint\u001b[0m\u001b[0;34m(\u001b[0m\u001b[0mmetrics\u001b[0m\u001b[0;34m.\u001b[0m\u001b[0mclassification_report\u001b[0m\u001b[0;34m(\u001b[0m\u001b[0my_test\u001b[0m\u001b[0;34m,\u001b[0m \u001b[0mdt_simple\u001b[0m\u001b[0;34m.\u001b[0m\u001b[0mpredict\u001b[0m\u001b[0;34m(\u001b[0m\u001b[0mX_test\u001b[0m\u001b[0;34m)\u001b[0m\u001b[0;34m)\u001b[0m\u001b[0;34m)\u001b[0m\u001b[0;34m\u001b[0m\u001b[0;34m\u001b[0m\u001b[0m\n\u001b[0;32m----> 4\u001b[0;31m \u001b[0mprint\u001b[0m\u001b[0;34m(\u001b[0m\u001b[0mmetrics\u001b[0m\u001b[0;34m.\u001b[0m\u001b[0mroc_auc_score\u001b[0m\u001b[0;34m(\u001b[0m\u001b[0my_test\u001b[0m\u001b[0;34m,\u001b[0m \u001b[0mdt_simple\u001b[0m\u001b[0;34m.\u001b[0m\u001b[0mpredict\u001b[0m\u001b[0;34m(\u001b[0m\u001b[0mX_test\u001b[0m\u001b[0;34m)\u001b[0m\u001b[0;34m)\u001b[0m\u001b[0;34m)\u001b[0m\u001b[0;34m\u001b[0m\u001b[0;34m\u001b[0m\u001b[0m\n\u001b[0m",
      "\u001b[0;32m~/anaconda3/lib/python3.7/site-packages/sklearn/metrics/ranking.py\u001b[0m in \u001b[0;36mroc_auc_score\u001b[0;34m(y_true, y_score, average, sample_weight, max_fpr)\u001b[0m\n\u001b[1;32m    353\u001b[0m     return _average_binary_score(\n\u001b[1;32m    354\u001b[0m         \u001b[0m_binary_roc_auc_score\u001b[0m\u001b[0;34m,\u001b[0m \u001b[0my_true\u001b[0m\u001b[0;34m,\u001b[0m \u001b[0my_score\u001b[0m\u001b[0;34m,\u001b[0m \u001b[0maverage\u001b[0m\u001b[0;34m,\u001b[0m\u001b[0;34m\u001b[0m\u001b[0;34m\u001b[0m\u001b[0m\n\u001b[0;32m--> 355\u001b[0;31m         sample_weight=sample_weight)\n\u001b[0m\u001b[1;32m    356\u001b[0m \u001b[0;34m\u001b[0m\u001b[0m\n\u001b[1;32m    357\u001b[0m \u001b[0;34m\u001b[0m\u001b[0m\n",
      "\u001b[0;32m~/anaconda3/lib/python3.7/site-packages/sklearn/metrics/base.py\u001b[0m in \u001b[0;36m_average_binary_score\u001b[0;34m(binary_metric, y_true, y_score, average, sample_weight)\u001b[0m\n\u001b[1;32m     71\u001b[0m     \u001b[0my_type\u001b[0m \u001b[0;34m=\u001b[0m \u001b[0mtype_of_target\u001b[0m\u001b[0;34m(\u001b[0m\u001b[0my_true\u001b[0m\u001b[0;34m)\u001b[0m\u001b[0;34m\u001b[0m\u001b[0;34m\u001b[0m\u001b[0m\n\u001b[1;32m     72\u001b[0m     \u001b[0;32mif\u001b[0m \u001b[0my_type\u001b[0m \u001b[0;32mnot\u001b[0m \u001b[0;32min\u001b[0m \u001b[0;34m(\u001b[0m\u001b[0;34m\"binary\"\u001b[0m\u001b[0;34m,\u001b[0m \u001b[0;34m\"multilabel-indicator\"\u001b[0m\u001b[0;34m)\u001b[0m\u001b[0;34m:\u001b[0m\u001b[0;34m\u001b[0m\u001b[0;34m\u001b[0m\u001b[0m\n\u001b[0;32m---> 73\u001b[0;31m         \u001b[0;32mraise\u001b[0m \u001b[0mValueError\u001b[0m\u001b[0;34m(\u001b[0m\u001b[0;34m\"{0} format is not supported\"\u001b[0m\u001b[0;34m.\u001b[0m\u001b[0mformat\u001b[0m\u001b[0;34m(\u001b[0m\u001b[0my_type\u001b[0m\u001b[0;34m)\u001b[0m\u001b[0;34m)\u001b[0m\u001b[0;34m\u001b[0m\u001b[0;34m\u001b[0m\u001b[0m\n\u001b[0m\u001b[1;32m     74\u001b[0m \u001b[0;34m\u001b[0m\u001b[0m\n\u001b[1;32m     75\u001b[0m     \u001b[0;32mif\u001b[0m \u001b[0my_type\u001b[0m \u001b[0;34m==\u001b[0m \u001b[0;34m\"binary\"\u001b[0m\u001b[0;34m:\u001b[0m\u001b[0;34m\u001b[0m\u001b[0;34m\u001b[0m\u001b[0m\n",
      "\u001b[0;31mValueError\u001b[0m: multiclass format is not supported"
     ]
    }
   ],
   "source": [
    "print(metrics.accuracy_score(y_test, dt_simple.predict(X_test)))\n",
    "print(metrics.confusion_matrix(y_test, dt_simple.predict(X_test)))\n",
    "print(metrics.classification_report(y_test, dt_simple.predict(X_test)))\n",
    "print(metrics.roc_auc_score(y_test, dt_simple.predict(X_test)))"
   ]
  },
  {
   "cell_type": "markdown",
   "metadata": {
    "slideshow": {
     "slide_type": "-"
    }
   },
   "source": [
    "# Random forrest regression Model "
   ]
  },
  {
   "cell_type": "markdown",
   "metadata": {
    "slideshow": {
     "slide_type": "-"
    }
   },
   "source": [
    "## Random Forrest is very similar to the decision tree model in the fact that it can be used for both classification and Reggression "
   ]
  },
  {
   "cell_type": "code",
   "execution_count": 638,
   "metadata": {
    "slideshow": {
     "slide_type": "-"
    }
   },
   "outputs": [
    {
     "data": {
      "text/plain": [
       "0.9949494949494949"
      ]
     },
     "execution_count": 638,
     "metadata": {},
     "output_type": "execute_result"
    }
   ],
   "source": [
    "from sklearn.ensemble import RandomForestClassifier\n",
    "\n",
    "clf = RandomForestClassifier(n_estimators=20)    #building 20 decision trees\n",
    "clf=clf.fit(X_train, y_train)\n",
    "clf.score(X_test, y_test)"
   ]
  },
  {
   "cell_type": "code",
   "execution_count": 639,
   "metadata": {
    "slideshow": {
     "slide_type": "-"
    }
   },
   "outputs": [
    {
     "name": "stdout",
     "output_type": "stream",
     "text": [
      "0.9949494949494949\n",
      "[[  0   0   1   1]\n",
      " [  0 637   0   0]\n",
      " [  0   0 329   0]\n",
      " [  0   0   3  19]]\n",
      "              precision    recall  f1-score   support\n",
      "\n",
      "         bad       0.00      0.00      0.00         2\n",
      "   excellent       1.00      1.00      1.00       637\n",
      "        good       0.99      1.00      0.99       329\n",
      "        okay       0.95      0.86      0.90        22\n",
      "\n",
      "    accuracy                           0.99       990\n",
      "   macro avg       0.73      0.72      0.72       990\n",
      "weighted avg       0.99      0.99      0.99       990\n",
      "\n"
     ]
    },
    {
     "name": "stderr",
     "output_type": "stream",
     "text": [
      "/Users/milesvincent/anaconda3/lib/python3.7/site-packages/sklearn/metrics/classification.py:1437: UndefinedMetricWarning: Precision and F-score are ill-defined and being set to 0.0 in labels with no predicted samples.\n",
      "  'precision', 'predicted', average, warn_for)\n"
     ]
    }
   ],
   "source": [
    "print(metrics.accuracy_score(y_test, clf.predict(X_test))) #overall accuracy\n",
    "print(metrics.confusion_matrix(y_test, clf.predict(X_test)))\n",
    "print(metrics.classification_report(y_test, clf.predict(X_test)))"
   ]
  },
  {
   "cell_type": "code",
   "execution_count": 640,
   "metadata": {
    "slideshow": {
     "slide_type": "-"
    }
   },
   "outputs": [
    {
     "data": {
      "text/plain": [
       "KNeighborsClassifier(algorithm='auto', leaf_size=30, metric='minkowski',\n",
       "                     metric_params=None, n_jobs=None, n_neighbors=5, p=2,\n",
       "                     weights='uniform')"
      ]
     },
     "execution_count": 640,
     "metadata": {},
     "output_type": "execute_result"
    }
   ],
   "source": [
    "# evaluate the model by splitting into train and test sets & develop knn model (name it as knn)\n",
    "# split validation\n",
    "X_train, X_test, y_train, y_test = train_test_split(X, y, test_size=0.3, random_state=42)\n",
    "\n",
    "# Initialize DecisionTreeClassifier() ... name your decision model \"dt\"\n",
    "knn= KNeighborsClassifier()\n",
    "\n",
    "# Train a decision tree model\n",
    "knn=knn.fit(X_train, y_train)\n",
    "\n",
    "knn"
   ]
  },
  {
   "cell_type": "code",
   "execution_count": 641,
   "metadata": {
    "slideshow": {
     "slide_type": "-"
    }
   },
   "outputs": [
    {
     "name": "stdout",
     "output_type": "stream",
     "text": [
      "1.0\n",
      "--------------------------------------------------------\n",
      "[[  2   0   0   0]\n",
      " [  0 637   0   0]\n",
      " [  0   0 329   0]\n",
      " [  0   0   0  22]]\n",
      "--------------------------------------------------------\n",
      "              precision    recall  f1-score   support\n",
      "\n",
      "         bad       1.00      1.00      1.00         2\n",
      "   excellent       1.00      1.00      1.00       637\n",
      "        good       1.00      1.00      1.00       329\n",
      "        okay       1.00      1.00      1.00        22\n",
      "\n",
      "    accuracy                           1.00       990\n",
      "   macro avg       1.00      1.00      1.00       990\n",
      "weighted avg       1.00      1.00      1.00       990\n",
      "\n",
      "--------------------------------------------------------\n"
     ]
    },
    {
     "ename": "ValueError",
     "evalue": "multiclass format is not supported",
     "output_type": "error",
     "traceback": [
      "\u001b[0;31m---------------------------------------------------------------------------\u001b[0m",
      "\u001b[0;31mValueError\u001b[0m                                Traceback (most recent call last)",
      "\u001b[0;32m<ipython-input-641-941dd6815c73>\u001b[0m in \u001b[0;36m<module>\u001b[0;34m\u001b[0m\n\u001b[1;32m      5\u001b[0m \u001b[0mprint\u001b[0m\u001b[0;34m(\u001b[0m\u001b[0mmetrics\u001b[0m\u001b[0;34m.\u001b[0m\u001b[0mclassification_report\u001b[0m\u001b[0;34m(\u001b[0m\u001b[0my_test\u001b[0m\u001b[0;34m,\u001b[0m \u001b[0mdt\u001b[0m\u001b[0;34m.\u001b[0m\u001b[0mpredict\u001b[0m\u001b[0;34m(\u001b[0m\u001b[0mX_test\u001b[0m\u001b[0;34m)\u001b[0m\u001b[0;34m)\u001b[0m\u001b[0;34m)\u001b[0m\u001b[0;34m\u001b[0m\u001b[0;34m\u001b[0m\u001b[0m\n\u001b[1;32m      6\u001b[0m \u001b[0mprint\u001b[0m\u001b[0;34m(\u001b[0m\u001b[0;34m\"--------------------------------------------------------\"\u001b[0m\u001b[0;34m)\u001b[0m\u001b[0;34m\u001b[0m\u001b[0;34m\u001b[0m\u001b[0m\n\u001b[0;32m----> 7\u001b[0;31m \u001b[0mprint\u001b[0m\u001b[0;34m(\u001b[0m\u001b[0mmetrics\u001b[0m\u001b[0;34m.\u001b[0m\u001b[0mroc_auc_score\u001b[0m\u001b[0;34m(\u001b[0m\u001b[0my_test\u001b[0m\u001b[0;34m,\u001b[0m \u001b[0mdt\u001b[0m\u001b[0;34m.\u001b[0m\u001b[0mpredict\u001b[0m\u001b[0;34m(\u001b[0m\u001b[0mX_test\u001b[0m\u001b[0;34m)\u001b[0m\u001b[0;34m)\u001b[0m\u001b[0;34m)\u001b[0m\u001b[0;34m\u001b[0m\u001b[0;34m\u001b[0m\u001b[0m\n\u001b[0m",
      "\u001b[0;32m~/anaconda3/lib/python3.7/site-packages/sklearn/metrics/ranking.py\u001b[0m in \u001b[0;36mroc_auc_score\u001b[0;34m(y_true, y_score, average, sample_weight, max_fpr)\u001b[0m\n\u001b[1;32m    353\u001b[0m     return _average_binary_score(\n\u001b[1;32m    354\u001b[0m         \u001b[0m_binary_roc_auc_score\u001b[0m\u001b[0;34m,\u001b[0m \u001b[0my_true\u001b[0m\u001b[0;34m,\u001b[0m \u001b[0my_score\u001b[0m\u001b[0;34m,\u001b[0m \u001b[0maverage\u001b[0m\u001b[0;34m,\u001b[0m\u001b[0;34m\u001b[0m\u001b[0;34m\u001b[0m\u001b[0m\n\u001b[0;32m--> 355\u001b[0;31m         sample_weight=sample_weight)\n\u001b[0m\u001b[1;32m    356\u001b[0m \u001b[0;34m\u001b[0m\u001b[0m\n\u001b[1;32m    357\u001b[0m \u001b[0;34m\u001b[0m\u001b[0m\n",
      "\u001b[0;32m~/anaconda3/lib/python3.7/site-packages/sklearn/metrics/base.py\u001b[0m in \u001b[0;36m_average_binary_score\u001b[0;34m(binary_metric, y_true, y_score, average, sample_weight)\u001b[0m\n\u001b[1;32m     71\u001b[0m     \u001b[0my_type\u001b[0m \u001b[0;34m=\u001b[0m \u001b[0mtype_of_target\u001b[0m\u001b[0;34m(\u001b[0m\u001b[0my_true\u001b[0m\u001b[0;34m)\u001b[0m\u001b[0;34m\u001b[0m\u001b[0;34m\u001b[0m\u001b[0m\n\u001b[1;32m     72\u001b[0m     \u001b[0;32mif\u001b[0m \u001b[0my_type\u001b[0m \u001b[0;32mnot\u001b[0m \u001b[0;32min\u001b[0m \u001b[0;34m(\u001b[0m\u001b[0;34m\"binary\"\u001b[0m\u001b[0;34m,\u001b[0m \u001b[0;34m\"multilabel-indicator\"\u001b[0m\u001b[0;34m)\u001b[0m\u001b[0;34m:\u001b[0m\u001b[0;34m\u001b[0m\u001b[0;34m\u001b[0m\u001b[0m\n\u001b[0;32m---> 73\u001b[0;31m         \u001b[0;32mraise\u001b[0m \u001b[0mValueError\u001b[0m\u001b[0;34m(\u001b[0m\u001b[0;34m\"{0} format is not supported\"\u001b[0m\u001b[0;34m.\u001b[0m\u001b[0mformat\u001b[0m\u001b[0;34m(\u001b[0m\u001b[0my_type\u001b[0m\u001b[0;34m)\u001b[0m\u001b[0;34m)\u001b[0m\u001b[0;34m\u001b[0m\u001b[0;34m\u001b[0m\u001b[0m\n\u001b[0m\u001b[1;32m     74\u001b[0m \u001b[0;34m\u001b[0m\u001b[0m\n\u001b[1;32m     75\u001b[0m     \u001b[0;32mif\u001b[0m \u001b[0my_type\u001b[0m \u001b[0;34m==\u001b[0m \u001b[0;34m\"binary\"\u001b[0m\u001b[0;34m:\u001b[0m\u001b[0;34m\u001b[0m\u001b[0;34m\u001b[0m\u001b[0m\n",
      "\u001b[0;31mValueError\u001b[0m: multiclass format is not supported"
     ]
    }
   ],
   "source": [
    "print(metrics.accuracy_score(y_test, dt.predict(X_test)))\n",
    "print(\"--------------------------------------------------------\")\n",
    "print(metrics.confusion_matrix(y_test, dt.predict(X_test))) \n",
    "print(\"--------------------------------------------------------\")\n",
    "print(metrics.classification_report(y_test, dt.predict(X_test)))\n",
    "print(\"--------------------------------------------------------\")\n",
    "print(metrics.roc_auc_score(y_test, dt.predict(X_test)))"
   ]
  },
  {
   "cell_type": "markdown",
   "metadata": {
    "slideshow": {
     "slide_type": "-"
    }
   },
   "source": [
    "## Logistic regressions"
   ]
  },
  {
   "cell_type": "code",
   "execution_count": 642,
   "metadata": {
    "slideshow": {
     "slide_type": "-"
    }
   },
   "outputs": [
    {
     "name": "stderr",
     "output_type": "stream",
     "text": [
      "/Users/milesvincent/anaconda3/lib/python3.7/site-packages/sklearn/linear_model/logistic.py:469: FutureWarning: Default multi_class will be changed to 'auto' in 0.22. Specify the multi_class option to silence this warning.\n",
      "  \"this warning.\", FutureWarning)\n"
     ]
    },
    {
     "data": {
      "text/plain": [
       "LogisticRegression(C=1.0, class_weight=None, dual=False, fit_intercept=True,\n",
       "                   intercept_scaling=1, l1_ratio=None, max_iter=500,\n",
       "                   multi_class='warn', n_jobs=None, penalty='l2',\n",
       "                   random_state=None, solver='lbfgs', tol=0.0001, verbose=0,\n",
       "                   warm_start=False)"
      ]
     },
     "execution_count": 642,
     "metadata": {},
     "output_type": "execute_result"
    }
   ],
   "source": [
    "X_train, X_test, y_train, y_test = train_test_split(X, y, test_size=0.3, random_state=0)\n",
    "lr = LogisticRegression(solver='lbfgs', max_iter=500)\n",
    "lr.fit(X_train, y_train)"
   ]
  },
  {
   "cell_type": "code",
   "execution_count": 643,
   "metadata": {
    "slideshow": {
     "slide_type": "-"
    }
   },
   "outputs": [
    {
     "name": "stdout",
     "output_type": "stream",
     "text": [
      "[[7.60505847e+08 8.86204000e+05 2.37000000e+08]\n",
      " [3.09404152e+08 4.71220000e+05 3.00000000e+08]\n",
      " [7.30586790e+07 2.12204000e+05 2.63700000e+08]\n",
      " ...\n",
      " [4.84684075e+07 3.60000000e+01 3.25000000e+03]\n",
      " [1.04430000e+04 1.25500000e+03 3.97526204e+07]\n",
      " [8.52220000e+04 4.28500000e+03 1.10000000e+03]]\n"
     ]
    }
   ],
   "source": [
    "X_new = SelectKBest(chi2, k=3).fit_transform(X, y)\n",
    "print(X_new)"
   ]
  },
  {
   "cell_type": "markdown",
   "metadata": {},
   "source": [
    "# The predictors for this model "
   ]
  },
  {
   "cell_type": "code",
   "execution_count": 644,
   "metadata": {
    "slideshow": {
     "slide_type": "slide"
    }
   },
   "outputs": [
    {
     "name": "stdout",
     "output_type": "stream",
     "text": [
      "[ 6  7 10]\n"
     ]
    }
   ],
   "source": [
    "selector = SelectKBest(chi2, k=3).fit(X, y)\n",
    "idxs_selected = selector.get_support(indices=True)\n",
    "print(idxs_selected)"
   ]
  },
  {
   "cell_type": "code",
   "execution_count": 645,
   "metadata": {
    "scrolled": true,
    "slideshow": {
     "slide_type": "subslide"
    }
   },
   "outputs": [
    {
     "data": {
      "text/html": [
       "<div>\n",
       "<style scoped>\n",
       "    .dataframe tbody tr th:only-of-type {\n",
       "        vertical-align: middle;\n",
       "    }\n",
       "\n",
       "    .dataframe tbody tr th {\n",
       "        vertical-align: top;\n",
       "    }\n",
       "\n",
       "    .dataframe thead th {\n",
       "        text-align: right;\n",
       "    }\n",
       "</style>\n",
       "<table border=\"1\" class=\"dataframe\">\n",
       "  <thead>\n",
       "    <tr style=\"text-align: right;\">\n",
       "      <th></th>\n",
       "      <th>level_0</th>\n",
       "      <th>index</th>\n",
       "      <th>num_critic_for_reviews</th>\n",
       "      <th>duration</th>\n",
       "      <th>director_facebook_likes</th>\n",
       "      <th>actor_1_facebook_likes</th>\n",
       "      <th>gross</th>\n",
       "      <th>num_voted_users</th>\n",
       "      <th>cast_total_facebook_likes</th>\n",
       "      <th>num_user_for_reviews</th>\n",
       "      <th>budget</th>\n",
       "      <th>title_year</th>\n",
       "      <th>imdb_score</th>\n",
       "      <th>movie_facebook_likes</th>\n",
       "    </tr>\n",
       "  </thead>\n",
       "  <tbody>\n",
       "    <tr>\n",
       "      <th>0</th>\n",
       "      <td>0</td>\n",
       "      <td>0</td>\n",
       "      <td>723.0</td>\n",
       "      <td>178.0</td>\n",
       "      <td>0.0</td>\n",
       "      <td>1000.0</td>\n",
       "      <td>760505847.0</td>\n",
       "      <td>886204</td>\n",
       "      <td>4834</td>\n",
       "      <td>3054.0</td>\n",
       "      <td>237000000.0</td>\n",
       "      <td>2009.0</td>\n",
       "      <td>7.9</td>\n",
       "      <td>33000</td>\n",
       "    </tr>\n",
       "    <tr>\n",
       "      <th>1</th>\n",
       "      <td>1</td>\n",
       "      <td>1</td>\n",
       "      <td>302.0</td>\n",
       "      <td>169.0</td>\n",
       "      <td>563.0</td>\n",
       "      <td>40000.0</td>\n",
       "      <td>309404152.0</td>\n",
       "      <td>471220</td>\n",
       "      <td>48350</td>\n",
       "      <td>1238.0</td>\n",
       "      <td>300000000.0</td>\n",
       "      <td>2007.0</td>\n",
       "      <td>7.1</td>\n",
       "      <td>0</td>\n",
       "    </tr>\n",
       "    <tr>\n",
       "      <th>3</th>\n",
       "      <td>3</td>\n",
       "      <td>5</td>\n",
       "      <td>462.0</td>\n",
       "      <td>132.0</td>\n",
       "      <td>475.0</td>\n",
       "      <td>640.0</td>\n",
       "      <td>73058679.0</td>\n",
       "      <td>212204</td>\n",
       "      <td>1873</td>\n",
       "      <td>738.0</td>\n",
       "      <td>263700000.0</td>\n",
       "      <td>2012.0</td>\n",
       "      <td>6.6</td>\n",
       "      <td>24000</td>\n",
       "    </tr>\n",
       "    <tr>\n",
       "      <th>4</th>\n",
       "      <td>4</td>\n",
       "      <td>6</td>\n",
       "      <td>392.0</td>\n",
       "      <td>156.0</td>\n",
       "      <td>0.0</td>\n",
       "      <td>24000.0</td>\n",
       "      <td>336530303.0</td>\n",
       "      <td>383056</td>\n",
       "      <td>46055</td>\n",
       "      <td>1902.0</td>\n",
       "      <td>258000000.0</td>\n",
       "      <td>2007.0</td>\n",
       "      <td>6.2</td>\n",
       "      <td>0</td>\n",
       "    </tr>\n",
       "    <tr>\n",
       "      <th>5</th>\n",
       "      <td>5</td>\n",
       "      <td>7</td>\n",
       "      <td>324.0</td>\n",
       "      <td>100.0</td>\n",
       "      <td>15.0</td>\n",
       "      <td>799.0</td>\n",
       "      <td>200807262.0</td>\n",
       "      <td>294810</td>\n",
       "      <td>2036</td>\n",
       "      <td>387.0</td>\n",
       "      <td>260000000.0</td>\n",
       "      <td>2010.0</td>\n",
       "      <td>7.8</td>\n",
       "      <td>29000</td>\n",
       "    </tr>\n",
       "  </tbody>\n",
       "</table>\n",
       "</div>"
      ],
      "text/plain": [
       "   level_0  index  num_critic_for_reviews  duration  director_facebook_likes  \\\n",
       "0        0      0                   723.0     178.0                      0.0   \n",
       "1        1      1                   302.0     169.0                    563.0   \n",
       "3        3      5                   462.0     132.0                    475.0   \n",
       "4        4      6                   392.0     156.0                      0.0   \n",
       "5        5      7                   324.0     100.0                     15.0   \n",
       "\n",
       "   actor_1_facebook_likes        gross  num_voted_users  \\\n",
       "0                  1000.0  760505847.0           886204   \n",
       "1                 40000.0  309404152.0           471220   \n",
       "3                   640.0   73058679.0           212204   \n",
       "4                 24000.0  336530303.0           383056   \n",
       "5                   799.0  200807262.0           294810   \n",
       "\n",
       "   cast_total_facebook_likes  num_user_for_reviews       budget  title_year  \\\n",
       "0                       4834                3054.0  237000000.0      2009.0   \n",
       "1                      48350                1238.0  300000000.0      2007.0   \n",
       "3                       1873                 738.0  263700000.0      2012.0   \n",
       "4                      46055                1902.0  258000000.0      2007.0   \n",
       "5                       2036                 387.0  260000000.0      2010.0   \n",
       "\n",
       "   imdb_score  movie_facebook_likes  \n",
       "0         7.9                 33000  \n",
       "1         7.1                     0  \n",
       "3         6.6                 24000  \n",
       "4         6.2                     0  \n",
       "5         7.8                 29000  "
      ]
     },
     "execution_count": 645,
     "metadata": {},
     "output_type": "execute_result"
    }
   ],
   "source": [
    "X.head() # the best indicators according to this model are satisfaction level, average monthly hours, and time work accident "
   ]
  },
  {
   "cell_type": "markdown",
   "metadata": {},
   "source": [
    "# Neural network"
   ]
  },
  {
   "cell_type": "code",
   "execution_count": 646,
   "metadata": {},
   "outputs": [
    {
     "data": {
      "text/plain": [
       "MLPClassifier(activation='relu', alpha=1e-05, batch_size='auto', beta_1=0.9,\n",
       "              beta_2=0.999, early_stopping=False, epsilon=1e-08,\n",
       "              hidden_layer_sizes=(5, 2), learning_rate='constant',\n",
       "              learning_rate_init=0.001, max_iter=200, momentum=0.9,\n",
       "              n_iter_no_change=10, nesterovs_momentum=True, power_t=0.5,\n",
       "              random_state=1, shuffle=True, solver='lbfgs', tol=0.0001,\n",
       "              validation_fraction=0.1, verbose=False, warm_start=False)"
      ]
     },
     "execution_count": 646,
     "metadata": {},
     "output_type": "execute_result"
    }
   ],
   "source": [
    "from sklearn.neural_network import MLPClassifier\n",
    ">>> X = [[0., 0.], [1., 1.]]\n",
    ">>> y = [0, 1]\n",
    ">>> clf = MLPClassifier(solver='lbfgs', alpha=1e-5,\n",
    "...                     hidden_layer_sizes=(5, 2), random_state=1)\n",
    "...\n",
    ">>> clf.fit(X, y)"
   ]
  },
  {
   "cell_type": "code",
   "execution_count": 647,
   "metadata": {},
   "outputs": [
    {
     "data": {
      "text/plain": [
       "array([1, 0])"
      ]
     },
     "execution_count": 647,
     "metadata": {},
     "output_type": "execute_result"
    }
   ],
   "source": [
    "clf.predict([[2., 2.], [-1., -2.]])"
   ]
  },
  {
   "cell_type": "code",
   "execution_count": 648,
   "metadata": {},
   "outputs": [
    {
     "data": {
      "text/plain": [
       "[(2, 5), (5, 2), (2, 1)]"
      ]
     },
     "execution_count": 648,
     "metadata": {},
     "output_type": "execute_result"
    }
   ],
   "source": [
    "[coef.shape for coef in clf.coefs_]"
   ]
  },
  {
   "cell_type": "code",
   "execution_count": 649,
   "metadata": {},
   "outputs": [
    {
     "data": {
      "text/plain": [
       "array([[1.96718015e-04, 9.99803282e-01],\n",
       "       [1.96718015e-04, 9.99803282e-01]])"
      ]
     },
     "execution_count": 649,
     "metadata": {},
     "output_type": "execute_result"
    }
   ],
   "source": [
    "clf.predict_proba([[2., 2.], [1., 2.]])"
   ]
  },
  {
   "cell_type": "code",
   "execution_count": 650,
   "metadata": {},
   "outputs": [
    {
     "data": {
      "text/plain": [
       "MLPClassifier(activation='relu', alpha=1e-05, batch_size='auto', beta_1=0.9,\n",
       "              beta_2=0.999, early_stopping=False, epsilon=1e-08,\n",
       "              hidden_layer_sizes=(15,), learning_rate='constant',\n",
       "              learning_rate_init=0.001, max_iter=200, momentum=0.9,\n",
       "              n_iter_no_change=10, nesterovs_momentum=True, power_t=0.5,\n",
       "              random_state=1, shuffle=True, solver='lbfgs', tol=0.0001,\n",
       "              validation_fraction=0.1, verbose=False, warm_start=False)"
      ]
     },
     "execution_count": 650,
     "metadata": {},
     "output_type": "execute_result"
    }
   ],
   "source": [
    "X = [[0., 0.], [1., 1.]]\n",
    ">>> y = [[0, 1], [1, 1]]\n",
    ">>> clf = MLPClassifier(solver='lbfgs', alpha=1e-5,\n",
    "...                     hidden_layer_sizes=(15,), random_state=1)\n",
    "...\n",
    "clf.fit(X, y)   "
   ]
  },
  {
   "cell_type": "markdown",
   "metadata": {
    "slideshow": {
     "slide_type": "-"
    }
   },
   "source": [
    "# Normalizing Data "
   ]
  },
  {
   "cell_type": "markdown",
   "metadata": {
    "slideshow": {
     "slide_type": "-"
    }
   },
   "source": [
    "## we will normally do this if we are afraid of redundancy in our data. We need to make sure that the catagory data is not included in the normalization process  "
   ]
  },
  {
   "cell_type": "code",
   "execution_count": 699,
   "metadata": {
    "slideshow": {
     "slide_type": "-"
    }
   },
   "outputs": [
    {
     "data": {
      "text/html": [
       "<div>\n",
       "<style scoped>\n",
       "    .dataframe tbody tr th:only-of-type {\n",
       "        vertical-align: middle;\n",
       "    }\n",
       "\n",
       "    .dataframe tbody tr th {\n",
       "        vertical-align: top;\n",
       "    }\n",
       "\n",
       "    .dataframe thead th {\n",
       "        text-align: right;\n",
       "    }\n",
       "</style>\n",
       "<table border=\"1\" class=\"dataframe\">\n",
       "  <thead>\n",
       "    <tr style=\"text-align: right;\">\n",
       "      <th></th>\n",
       "      <th>level_0</th>\n",
       "      <th>index</th>\n",
       "      <th>num_critic_for_reviews</th>\n",
       "      <th>duration</th>\n",
       "      <th>director_facebook_likes</th>\n",
       "      <th>actor_1_facebook_likes</th>\n",
       "      <th>gross</th>\n",
       "      <th>num_voted_users</th>\n",
       "      <th>cast_total_facebook_likes</th>\n",
       "      <th>num_user_for_reviews</th>\n",
       "      <th>budget</th>\n",
       "      <th>title_year</th>\n",
       "      <th>imdb_score</th>\n",
       "      <th>movie_facebook_likes</th>\n",
       "      <th>cluster</th>\n",
       "    </tr>\n",
       "  </thead>\n",
       "  <tbody>\n",
       "    <tr>\n",
       "      <th>0</th>\n",
       "      <td>0</td>\n",
       "      <td>0</td>\n",
       "      <td>723.0</td>\n",
       "      <td>178.0</td>\n",
       "      <td>0.0</td>\n",
       "      <td>1000.0</td>\n",
       "      <td>760505847.0</td>\n",
       "      <td>886204</td>\n",
       "      <td>4834</td>\n",
       "      <td>3054.0</td>\n",
       "      <td>237000000.0</td>\n",
       "      <td>2009.0</td>\n",
       "      <td>7.9</td>\n",
       "      <td>33000</td>\n",
       "      <td>2.0</td>\n",
       "    </tr>\n",
       "    <tr>\n",
       "      <th>1</th>\n",
       "      <td>1</td>\n",
       "      <td>1</td>\n",
       "      <td>302.0</td>\n",
       "      <td>169.0</td>\n",
       "      <td>563.0</td>\n",
       "      <td>40000.0</td>\n",
       "      <td>309404152.0</td>\n",
       "      <td>471220</td>\n",
       "      <td>48350</td>\n",
       "      <td>1238.0</td>\n",
       "      <td>300000000.0</td>\n",
       "      <td>2007.0</td>\n",
       "      <td>7.1</td>\n",
       "      <td>0</td>\n",
       "      <td>2.0</td>\n",
       "    </tr>\n",
       "    <tr>\n",
       "      <th>3</th>\n",
       "      <td>3</td>\n",
       "      <td>5</td>\n",
       "      <td>462.0</td>\n",
       "      <td>132.0</td>\n",
       "      <td>475.0</td>\n",
       "      <td>640.0</td>\n",
       "      <td>73058679.0</td>\n",
       "      <td>212204</td>\n",
       "      <td>1873</td>\n",
       "      <td>738.0</td>\n",
       "      <td>263700000.0</td>\n",
       "      <td>2012.0</td>\n",
       "      <td>6.6</td>\n",
       "      <td>24000</td>\n",
       "      <td>2.0</td>\n",
       "    </tr>\n",
       "    <tr>\n",
       "      <th>4</th>\n",
       "      <td>4</td>\n",
       "      <td>6</td>\n",
       "      <td>392.0</td>\n",
       "      <td>156.0</td>\n",
       "      <td>0.0</td>\n",
       "      <td>24000.0</td>\n",
       "      <td>336530303.0</td>\n",
       "      <td>383056</td>\n",
       "      <td>46055</td>\n",
       "      <td>1902.0</td>\n",
       "      <td>258000000.0</td>\n",
       "      <td>2007.0</td>\n",
       "      <td>6.2</td>\n",
       "      <td>0</td>\n",
       "      <td>2.0</td>\n",
       "    </tr>\n",
       "    <tr>\n",
       "      <th>5</th>\n",
       "      <td>5</td>\n",
       "      <td>7</td>\n",
       "      <td>324.0</td>\n",
       "      <td>100.0</td>\n",
       "      <td>15.0</td>\n",
       "      <td>799.0</td>\n",
       "      <td>200807262.0</td>\n",
       "      <td>294810</td>\n",
       "      <td>2036</td>\n",
       "      <td>387.0</td>\n",
       "      <td>260000000.0</td>\n",
       "      <td>2010.0</td>\n",
       "      <td>7.8</td>\n",
       "      <td>29000</td>\n",
       "      <td>2.0</td>\n",
       "    </tr>\n",
       "  </tbody>\n",
       "</table>\n",
       "</div>"
      ],
      "text/plain": [
       "   level_0  index  num_critic_for_reviews  duration  director_facebook_likes  \\\n",
       "0        0      0                   723.0     178.0                      0.0   \n",
       "1        1      1                   302.0     169.0                    563.0   \n",
       "3        3      5                   462.0     132.0                    475.0   \n",
       "4        4      6                   392.0     156.0                      0.0   \n",
       "5        5      7                   324.0     100.0                     15.0   \n",
       "\n",
       "   actor_1_facebook_likes        gross  num_voted_users  \\\n",
       "0                  1000.0  760505847.0           886204   \n",
       "1                 40000.0  309404152.0           471220   \n",
       "3                   640.0   73058679.0           212204   \n",
       "4                 24000.0  336530303.0           383056   \n",
       "5                   799.0  200807262.0           294810   \n",
       "\n",
       "   cast_total_facebook_likes  num_user_for_reviews       budget  title_year  \\\n",
       "0                       4834                3054.0  237000000.0      2009.0   \n",
       "1                      48350                1238.0  300000000.0      2007.0   \n",
       "3                       1873                 738.0  263700000.0      2012.0   \n",
       "4                      46055                1902.0  258000000.0      2007.0   \n",
       "5                       2036                 387.0  260000000.0      2010.0   \n",
       "\n",
       "   imdb_score  movie_facebook_likes  cluster  \n",
       "0         7.9                 33000      2.0  \n",
       "1         7.1                     0      2.0  \n",
       "3         6.6                 24000      2.0  \n",
       "4         6.2                     0      2.0  \n",
       "5         7.8                 29000      2.0  "
      ]
     },
     "execution_count": 699,
     "metadata": {},
     "output_type": "execute_result"
    }
   ],
   "source": [
    "df2 = df2.drop(\"imdbscore_category\", axis=1)\n",
    "df2.head()"
   ]
  },
  {
   "cell_type": "code",
   "execution_count": 700,
   "metadata": {
    "slideshow": {
     "slide_type": "-"
    }
   },
   "outputs": [
    {
     "data": {
      "text/html": [
       "<div>\n",
       "<style scoped>\n",
       "    .dataframe tbody tr th:only-of-type {\n",
       "        vertical-align: middle;\n",
       "    }\n",
       "\n",
       "    .dataframe tbody tr th {\n",
       "        vertical-align: top;\n",
       "    }\n",
       "\n",
       "    .dataframe thead th {\n",
       "        text-align: right;\n",
       "    }\n",
       "</style>\n",
       "<table border=\"1\" class=\"dataframe\">\n",
       "  <thead>\n",
       "    <tr style=\"text-align: right;\">\n",
       "      <th></th>\n",
       "      <th>level_0</th>\n",
       "      <th>index</th>\n",
       "      <th>num_critic_for_reviews</th>\n",
       "      <th>duration</th>\n",
       "      <th>director_facebook_likes</th>\n",
       "      <th>actor_1_facebook_likes</th>\n",
       "      <th>gross</th>\n",
       "      <th>num_voted_users</th>\n",
       "      <th>cast_total_facebook_likes</th>\n",
       "      <th>num_user_for_reviews</th>\n",
       "      <th>budget</th>\n",
       "      <th>title_year</th>\n",
       "      <th>imdb_score</th>\n",
       "      <th>movie_facebook_likes</th>\n",
       "      <th>cluster</th>\n",
       "    </tr>\n",
       "  </thead>\n",
       "  <tbody>\n",
       "    <tr>\n",
       "      <th>0</th>\n",
       "      <td>-0.50181</td>\n",
       "      <td>-0.452858</td>\n",
       "      <td>0.738488</td>\n",
       "      <td>0.239194</td>\n",
       "      <td>-0.031867</td>\n",
       "      <td>-0.010721</td>\n",
       "      <td>0.929308</td>\n",
       "      <td>0.906743</td>\n",
       "      <td>-0.010422</td>\n",
       "      <td>0.770524</td>\n",
       "      <td>0.659923</td>\n",
       "      <td>0.074567</td>\n",
       "      <td>0.255896</td>\n",
       "      <td>0.12933</td>\n",
       "      <td>-0.037984</td>\n",
       "    </tr>\n",
       "  </tbody>\n",
       "</table>\n",
       "</div>"
      ],
      "text/plain": [
       "   level_0     index  num_critic_for_reviews  duration  \\\n",
       "0 -0.50181 -0.452858                0.738488  0.239194   \n",
       "\n",
       "   director_facebook_likes  actor_1_facebook_likes     gross  num_voted_users  \\\n",
       "0                -0.031867               -0.010721  0.929308         0.906743   \n",
       "\n",
       "   cast_total_facebook_likes  num_user_for_reviews    budget  title_year  \\\n",
       "0                  -0.010422              0.770524  0.659923    0.074567   \n",
       "\n",
       "   imdb_score  movie_facebook_likes   cluster  \n",
       "0    0.255896               0.12933 -0.037984  "
      ]
     },
     "execution_count": 700,
     "metadata": {},
     "output_type": "execute_result"
    }
   ],
   "source": [
    "df_nor = (df2 - df2.mean()) / (df2.max() - df2.min())\n",
    "df_nor.head(1)"
   ]
  },
  {
   "cell_type": "code",
   "execution_count": 701,
   "metadata": {},
   "outputs": [
    {
     "data": {
      "text/plain": [
       "level_0                      0.082632\n",
       "index                        0.079697\n",
       "num_critic_for_reviews       0.023427\n",
       "duration                     0.004846\n",
       "director_facebook_likes      0.015558\n",
       "actor_1_facebook_likes       0.000676\n",
       "gross                        0.007004\n",
       "num_voted_users              0.013072\n",
       "cast_total_facebook_likes    0.000920\n",
       "num_user_for_reviews         0.008464\n",
       "budget                       0.019011\n",
       "title_year                   0.015157\n",
       "imdb_score                   0.025857\n",
       "movie_facebook_likes         0.008152\n",
       "cluster                      0.125375\n",
       "dtype: float64"
      ]
     },
     "execution_count": 701,
     "metadata": {},
     "output_type": "execute_result"
    }
   ],
   "source": [
    "df_nor.var()"
   ]
  },
  {
   "cell_type": "markdown",
   "metadata": {
    "slideshow": {
     "slide_type": "slide"
    }
   },
   "source": [
    "# K-Means & Clustering "
   ]
  },
  {
   "cell_type": "code",
   "execution_count": 654,
   "metadata": {},
   "outputs": [],
   "source": [
    "from sklearn.cluster import KMeans\n",
    "\n",
    "from sklearn.cluster import AgglomerativeClustering\n",
    "from sklearn.metrics import pairwise_distances\n",
    "\n",
    "\n",
    "from sklearn.cluster import ward_tree\n",
    "from scipy.cluster.hierarchy import dendrogram, linkage, ward\n"
   ]
  },
  {
   "cell_type": "code",
   "execution_count": 673,
   "metadata": {
    "slideshow": {
     "slide_type": "slide"
    }
   },
   "outputs": [
    {
     "data": {
      "image/png": "[encoded data removed]",
      "text/plain": [
       "<Figure size 432x288 with 1 Axes>"
      ]
     },
     "metadata": {
      "needs_background": "light"
     },
     "output_type": "display_data"
    }
   ],
   "source": [
    "from scipy.spatial.distance import cdist \n",
    "#The Elbow method\n",
    "\n",
    "#https://www.packtpub.com/big-data-and-business-intelligence/mastering-machine-learning-scikit-learn#\n",
    "#http://scikit-learn.org/stable/modules/clustering.html\n",
    "\n",
    "K = list(range(1, 10)) \n",
    "meandistortions = [] \n",
    "for k in K: \n",
    "    kmeans = KMeans(n_clusters=k) \n",
    "    kmeans.fit(X) \n",
    "    meandistortions.append(sum(np.min(cdist(X, kmeans.cluster_centers_, 'euclidean'), axis=1)) / X.shape[0]) \n",
    "\n",
    "plt.plot(K, meandistortions, 'bx-') \n",
    "plt.xlabel('k') \n",
    "plt.ylabel('Average distortion') \n",
    "plt.title('Selecting k with the Elbow Method') \n",
    "plt.show()\n",
    "\n",
    "#the graph suggest that 6 or 7 is a good value for K\n",
    "#The average distortion improves rapidly as we increase  from 1 to 2 and 2 to 3. \n",
    "#There is little improvement for values of  greater than 7."
   ]
  },
  {
   "cell_type": "code",
   "execution_count": 674,
   "metadata": {
    "slideshow": {
     "slide_type": "-"
    }
   },
   "outputs": [],
   "source": [
    "k_means = KMeans(init='k-means++', n_clusters=6, random_state=0)"
   ]
  },
  {
   "cell_type": "code",
   "execution_count": 675,
   "metadata": {
    "slideshow": {
     "slide_type": "-"
    }
   },
   "outputs": [
    {
     "data": {
      "text/plain": [
       "KMeans(algorithm='auto', copy_x=True, init='k-means++', max_iter=300,\n",
       "       n_clusters=6, n_init=10, n_jobs=None, precompute_distances='auto',\n",
       "       random_state=0, tol=0.0001, verbose=0)"
      ]
     },
     "execution_count": 675,
     "metadata": {},
     "output_type": "execute_result"
    }
   ],
   "source": [
    "k_means.fit(df_nor)"
   ]
  },
  {
   "cell_type": "code",
   "execution_count": 676,
   "metadata": {
    "slideshow": {
     "slide_type": "-"
    }
   },
   "outputs": [
    {
     "data": {
      "text/plain": [
       "array([2, 2, 2, ..., 0, 0, 0], dtype=int32)"
      ]
     },
     "execution_count": 676,
     "metadata": {},
     "output_type": "execute_result"
    }
   ],
   "source": [
    "k_means.labels_"
   ]
  },
  {
   "cell_type": "code",
   "execution_count": 677,
   "metadata": {
    "slideshow": {
     "slide_type": "-"
    }
   },
   "outputs": [
    {
     "data": {
      "text/plain": [
       "array([[ 0.3899506 ,  0.40364331, -0.07022908, -0.03413991, -0.01905123,\n",
       "        -0.00543034, -0.03945978, -0.06100401, -0.00842515, -0.03640455,\n",
       "        -0.09380867, -0.01408374, -0.0213077 , -0.02174261],\n",
       "       [-0.102708  , -0.11535236, -0.01326643,  0.00685701, -0.02459553,\n",
       "         0.00164988, -0.01204915, -0.01407912,  0.00161788, -0.01172745,\n",
       "        -0.02267732,  0.00384571, -0.01100968, -0.01245252],\n",
       "       [-0.38633949, -0.35215642,  0.32710663,  0.06455802,  0.01920123,\n",
       "         0.01088502,  0.16642049,  0.26256957,  0.01981021,  0.17202752,\n",
       "         0.28384861,  0.08947655,  0.11385485,  0.18542624],\n",
       "       [ 0.15747876,  0.13024188, -0.04175716, -0.01356675, -0.02440179,\n",
       "        -0.003205  , -0.02966974, -0.03280959, -0.0043943 , -0.0207888 ,\n",
       "        -0.07445107, -0.01898051, -0.00576262, -0.01455384],\n",
       "       [-0.10965935, -0.11323554,  0.04977578,  0.05223539,  0.59466914,\n",
       "         0.00759168,  0.02604343,  0.07176775,  0.00873176,  0.03532423,\n",
       "         0.01594533, -0.06262739,  0.11603825,  0.00618412],\n",
       "       [-0.3481314 , -0.32410426,  0.02242109,  0.01457   , -0.02247702,\n",
       "         0.00281637,  0.03323686,  0.02146524,  0.0043165 ,  0.01439204,\n",
       "         0.12477518,  0.01305001, -0.01524165, -0.00919038]])"
      ]
     },
     "execution_count": 677,
     "metadata": {},
     "output_type": "execute_result"
    }
   ],
   "source": [
    "k_means.cluster_centers_"
   ]
  },
  {
   "cell_type": "code",
   "execution_count": 678,
   "metadata": {
    "slideshow": {
     "slide_type": "-"
    }
   },
   "outputs": [
    {
     "data": {
      "text/html": [
       "<div>\n",
       "<style scoped>\n",
       "    .dataframe tbody tr th:only-of-type {\n",
       "        vertical-align: middle;\n",
       "    }\n",
       "\n",
       "    .dataframe tbody tr th {\n",
       "        vertical-align: top;\n",
       "    }\n",
       "\n",
       "    .dataframe thead th {\n",
       "        text-align: right;\n",
       "    }\n",
       "</style>\n",
       "<table border=\"1\" class=\"dataframe\">\n",
       "  <thead>\n",
       "    <tr style=\"text-align: right;\">\n",
       "      <th></th>\n",
       "      <th>cluster</th>\n",
       "    </tr>\n",
       "  </thead>\n",
       "  <tbody>\n",
       "    <tr>\n",
       "      <th>0</th>\n",
       "      <td>2</td>\n",
       "    </tr>\n",
       "    <tr>\n",
       "      <th>1</th>\n",
       "      <td>2</td>\n",
       "    </tr>\n",
       "    <tr>\n",
       "      <th>2</th>\n",
       "      <td>2</td>\n",
       "    </tr>\n",
       "    <tr>\n",
       "      <th>3</th>\n",
       "      <td>2</td>\n",
       "    </tr>\n",
       "    <tr>\n",
       "      <th>4</th>\n",
       "      <td>2</td>\n",
       "    </tr>\n",
       "  </tbody>\n",
       "</table>\n",
       "</div>"
      ],
      "text/plain": [
       "   cluster\n",
       "0        2\n",
       "1        2\n",
       "2        2\n",
       "3        2\n",
       "4        2"
      ]
     },
     "execution_count": 678,
     "metadata": {},
     "output_type": "execute_result"
    }
   ],
   "source": [
    "df1 = pd.DataFrame(k_means.labels_, columns = ['cluster'])\n",
    "df1.head()"
   ]
  },
  {
   "cell_type": "code",
   "execution_count": 679,
   "metadata": {
    "slideshow": {
     "slide_type": "-"
    }
   },
   "outputs": [
    {
     "data": {
      "text/html": [
       "<div>\n",
       "<style scoped>\n",
       "    .dataframe tbody tr th:only-of-type {\n",
       "        vertical-align: middle;\n",
       "    }\n",
       "\n",
       "    .dataframe tbody tr th {\n",
       "        vertical-align: top;\n",
       "    }\n",
       "\n",
       "    .dataframe thead th {\n",
       "        text-align: right;\n",
       "    }\n",
       "</style>\n",
       "<table border=\"1\" class=\"dataframe\">\n",
       "  <thead>\n",
       "    <tr style=\"text-align: right;\">\n",
       "      <th></th>\n",
       "      <th>level_0</th>\n",
       "      <th>index</th>\n",
       "      <th>director_name</th>\n",
       "      <th>num_critic_for_reviews</th>\n",
       "      <th>duration</th>\n",
       "      <th>director_facebook_likes</th>\n",
       "      <th>actor_1_facebook_likes</th>\n",
       "      <th>gross</th>\n",
       "      <th>genres</th>\n",
       "      <th>actor_1_name</th>\n",
       "      <th>...</th>\n",
       "      <th>num_user_for_reviews</th>\n",
       "      <th>language</th>\n",
       "      <th>country</th>\n",
       "      <th>content_rating</th>\n",
       "      <th>budget</th>\n",
       "      <th>title_year</th>\n",
       "      <th>imdb_score</th>\n",
       "      <th>movie_facebook_likes</th>\n",
       "      <th>imdbscore_category</th>\n",
       "      <th>cluster</th>\n",
       "    </tr>\n",
       "  </thead>\n",
       "  <tbody>\n",
       "    <tr>\n",
       "      <th>0</th>\n",
       "      <td>0</td>\n",
       "      <td>0</td>\n",
       "      <td>James Cameron</td>\n",
       "      <td>723.0</td>\n",
       "      <td>178.0</td>\n",
       "      <td>0.0</td>\n",
       "      <td>1000.0</td>\n",
       "      <td>760505847.0</td>\n",
       "      <td>Action</td>\n",
       "      <td>CCH Pounder</td>\n",
       "      <td>...</td>\n",
       "      <td>3054.0</td>\n",
       "      <td>English</td>\n",
       "      <td>USA</td>\n",
       "      <td>PG-13</td>\n",
       "      <td>237000000.0</td>\n",
       "      <td>2009.0</td>\n",
       "      <td>7.9</td>\n",
       "      <td>33000</td>\n",
       "      <td>excellent</td>\n",
       "      <td>2.0</td>\n",
       "    </tr>\n",
       "    <tr>\n",
       "      <th>1</th>\n",
       "      <td>1</td>\n",
       "      <td>1</td>\n",
       "      <td>Gore Verbinski</td>\n",
       "      <td>302.0</td>\n",
       "      <td>169.0</td>\n",
       "      <td>563.0</td>\n",
       "      <td>40000.0</td>\n",
       "      <td>309404152.0</td>\n",
       "      <td>Action</td>\n",
       "      <td>Johnny Depp</td>\n",
       "      <td>...</td>\n",
       "      <td>1238.0</td>\n",
       "      <td>English</td>\n",
       "      <td>USA</td>\n",
       "      <td>PG-13</td>\n",
       "      <td>300000000.0</td>\n",
       "      <td>2007.0</td>\n",
       "      <td>7.1</td>\n",
       "      <td>0</td>\n",
       "      <td>excellent</td>\n",
       "      <td>2.0</td>\n",
       "    </tr>\n",
       "    <tr>\n",
       "      <th>2</th>\n",
       "      <td>2</td>\n",
       "      <td>3</td>\n",
       "      <td>Christopher Nolan</td>\n",
       "      <td>813.0</td>\n",
       "      <td>164.0</td>\n",
       "      <td>22000.0</td>\n",
       "      <td>27000.0</td>\n",
       "      <td>448130642.0</td>\n",
       "      <td>Thriller</td>\n",
       "      <td>Tom Hardy</td>\n",
       "      <td>...</td>\n",
       "      <td>2701.0</td>\n",
       "      <td>English</td>\n",
       "      <td>USA</td>\n",
       "      <td>PG-13</td>\n",
       "      <td>250000000.0</td>\n",
       "      <td>2012.0</td>\n",
       "      <td>8.5</td>\n",
       "      <td>164000</td>\n",
       "      <td>NaN</td>\n",
       "      <td>2.0</td>\n",
       "    </tr>\n",
       "    <tr>\n",
       "      <th>3</th>\n",
       "      <td>3</td>\n",
       "      <td>5</td>\n",
       "      <td>Andrew Stanton</td>\n",
       "      <td>462.0</td>\n",
       "      <td>132.0</td>\n",
       "      <td>475.0</td>\n",
       "      <td>640.0</td>\n",
       "      <td>73058679.0</td>\n",
       "      <td>Adventure</td>\n",
       "      <td>Daryl Sabara</td>\n",
       "      <td>...</td>\n",
       "      <td>738.0</td>\n",
       "      <td>English</td>\n",
       "      <td>USA</td>\n",
       "      <td>PG-13</td>\n",
       "      <td>263700000.0</td>\n",
       "      <td>2012.0</td>\n",
       "      <td>6.6</td>\n",
       "      <td>24000</td>\n",
       "      <td>excellent</td>\n",
       "      <td>2.0</td>\n",
       "    </tr>\n",
       "    <tr>\n",
       "      <th>4</th>\n",
       "      <td>4</td>\n",
       "      <td>6</td>\n",
       "      <td>Sam Raimi</td>\n",
       "      <td>392.0</td>\n",
       "      <td>156.0</td>\n",
       "      <td>0.0</td>\n",
       "      <td>24000.0</td>\n",
       "      <td>336530303.0</td>\n",
       "      <td>Action</td>\n",
       "      <td>J.K. Simmons</td>\n",
       "      <td>...</td>\n",
       "      <td>1902.0</td>\n",
       "      <td>English</td>\n",
       "      <td>USA</td>\n",
       "      <td>PG-13</td>\n",
       "      <td>258000000.0</td>\n",
       "      <td>2007.0</td>\n",
       "      <td>6.2</td>\n",
       "      <td>0</td>\n",
       "      <td>excellent</td>\n",
       "      <td>2.0</td>\n",
       "    </tr>\n",
       "  </tbody>\n",
       "</table>\n",
       "<p>5 rows × 23 columns</p>\n",
       "</div>"
      ],
      "text/plain": [
       "   level_0  index      director_name  num_critic_for_reviews  duration  \\\n",
       "0        0      0      James Cameron                   723.0     178.0   \n",
       "1        1      1     Gore Verbinski                   302.0     169.0   \n",
       "2        2      3  Christopher Nolan                   813.0     164.0   \n",
       "3        3      5     Andrew Stanton                   462.0     132.0   \n",
       "4        4      6          Sam Raimi                   392.0     156.0   \n",
       "\n",
       "   director_facebook_likes  actor_1_facebook_likes        gross     genres  \\\n",
       "0                      0.0                  1000.0  760505847.0     Action   \n",
       "1                    563.0                 40000.0  309404152.0     Action   \n",
       "2                  22000.0                 27000.0  448130642.0   Thriller   \n",
       "3                    475.0                   640.0   73058679.0  Adventure   \n",
       "4                      0.0                 24000.0  336530303.0     Action   \n",
       "\n",
       "   actor_1_name  ... num_user_for_reviews  language  country  content_rating  \\\n",
       "0   CCH Pounder  ...               3054.0   English      USA           PG-13   \n",
       "1   Johnny Depp  ...               1238.0   English      USA           PG-13   \n",
       "2     Tom Hardy  ...               2701.0   English      USA           PG-13   \n",
       "3  Daryl Sabara  ...                738.0   English      USA           PG-13   \n",
       "4  J.K. Simmons  ...               1902.0   English      USA           PG-13   \n",
       "\n",
       "        budget title_year imdb_score  movie_facebook_likes  \\\n",
       "0  237000000.0     2009.0        7.9                 33000   \n",
       "1  300000000.0     2007.0        7.1                     0   \n",
       "2  250000000.0     2012.0        8.5                164000   \n",
       "3  263700000.0     2012.0        6.6                 24000   \n",
       "4  258000000.0     2007.0        6.2                     0   \n",
       "\n",
       "   imdbscore_category  cluster  \n",
       "0           excellent      2.0  \n",
       "1           excellent      2.0  \n",
       "2                 NaN      2.0  \n",
       "3           excellent      2.0  \n",
       "4           excellent      2.0  \n",
       "\n",
       "[5 rows x 23 columns]"
      ]
     },
     "execution_count": 679,
     "metadata": {},
     "output_type": "execute_result"
    }
   ],
   "source": [
    "df2 = df.join(df1)\n",
    "df2.head()"
   ]
  },
  {
   "cell_type": "code",
   "execution_count": 680,
   "metadata": {
    "slideshow": {
     "slide_type": "slide"
    }
   },
   "outputs": [
    {
     "data": {
      "text/plain": [
       "cluster\n",
       "0.0    712\n",
       "1.0    822\n",
       "2.0    229\n",
       "3.0    802\n",
       "4.0    106\n",
       "5.0    626\n",
       "dtype: int64"
      ]
     },
     "execution_count": 680,
     "metadata": {},
     "output_type": "execute_result"
    }
   ],
   "source": [
    "df2.groupby(['cluster']).size()"
   ]
  },
  {
   "cell_type": "code",
   "execution_count": 681,
   "metadata": {
    "slideshow": {
     "slide_type": "subslide"
    }
   },
   "outputs": [
    {
     "data": {
      "text/html": [
       "<div>\n",
       "<style scoped>\n",
       "    .dataframe tbody tr th:only-of-type {\n",
       "        vertical-align: middle;\n",
       "    }\n",
       "\n",
       "    .dataframe tbody tr th {\n",
       "        vertical-align: top;\n",
       "    }\n",
       "\n",
       "    .dataframe thead th {\n",
       "        text-align: right;\n",
       "    }\n",
       "</style>\n",
       "<table border=\"1\" class=\"dataframe\">\n",
       "  <thead>\n",
       "    <tr style=\"text-align: right;\">\n",
       "      <th></th>\n",
       "      <th>level_0</th>\n",
       "      <th>index</th>\n",
       "      <th>num_critic_for_reviews</th>\n",
       "      <th>duration</th>\n",
       "      <th>director_facebook_likes</th>\n",
       "      <th>actor_1_facebook_likes</th>\n",
       "      <th>gross</th>\n",
       "      <th>num_voted_users</th>\n",
       "      <th>cast_total_facebook_likes</th>\n",
       "      <th>num_user_for_reviews</th>\n",
       "      <th>budget</th>\n",
       "      <th>title_year</th>\n",
       "      <th>imdb_score</th>\n",
       "      <th>movie_facebook_likes</th>\n",
       "    </tr>\n",
       "    <tr>\n",
       "      <th>cluster</th>\n",
       "      <th></th>\n",
       "      <th></th>\n",
       "      <th></th>\n",
       "      <th></th>\n",
       "      <th></th>\n",
       "      <th></th>\n",
       "      <th></th>\n",
       "      <th></th>\n",
       "      <th></th>\n",
       "      <th></th>\n",
       "      <th></th>\n",
       "      <th></th>\n",
       "      <th></th>\n",
       "      <th></th>\n",
       "    </tr>\n",
       "  </thead>\n",
       "  <tbody>\n",
       "    <tr>\n",
       "      <th>0.0</th>\n",
       "      <td>2938.271067</td>\n",
       "      <td>4069.710674</td>\n",
       "      <td>105.839261</td>\n",
       "      <td>100.140732</td>\n",
       "      <td>571.476124</td>\n",
       "      <td>4743.522472</td>\n",
       "      <td>2.506723e+07</td>\n",
       "      <td>45452.838483</td>\n",
       "      <td>6872.898876</td>\n",
       "      <td>188.294622</td>\n",
       "      <td>9.794446e+06</td>\n",
       "      <td>2000.992978</td>\n",
       "      <td>6.280337</td>\n",
       "      <td>4329.168539</td>\n",
       "    </tr>\n",
       "    <tr>\n",
       "      <th>1.0</th>\n",
       "      <td>1305.565693</td>\n",
       "      <td>1589.489051</td>\n",
       "      <td>156.218978</td>\n",
       "      <td>111.272506</td>\n",
       "      <td>910.266423</td>\n",
       "      <td>9117.416058</td>\n",
       "      <td>4.944791e+07</td>\n",
       "      <td>95822.373479</td>\n",
       "      <td>13074.136253</td>\n",
       "      <td>285.908759</td>\n",
       "      <td>3.315570e+07</td>\n",
       "      <td>2003.400243</td>\n",
       "      <td>6.351338</td>\n",
       "      <td>7809.074209</td>\n",
       "    </tr>\n",
       "    <tr>\n",
       "      <th>2.0</th>\n",
       "      <td>372.899563</td>\n",
       "      <td>445.877729</td>\n",
       "      <td>282.624454</td>\n",
       "      <td>121.624454</td>\n",
       "      <td>1122.947598</td>\n",
       "      <td>12614.375546</td>\n",
       "      <td>1.488371e+08</td>\n",
       "      <td>223617.305677</td>\n",
       "      <td>21090.475983</td>\n",
       "      <td>678.218341</td>\n",
       "      <td>1.226592e+08</td>\n",
       "      <td>2007.034934</td>\n",
       "      <td>6.537555</td>\n",
       "      <td>26764.737991</td>\n",
       "    </tr>\n",
       "    <tr>\n",
       "      <th>3.0</th>\n",
       "      <td>2166.402743</td>\n",
       "      <td>2770.534913</td>\n",
       "      <td>124.852868</td>\n",
       "      <td>104.483791</td>\n",
       "      <td>662.047382</td>\n",
       "      <td>6319.615960</td>\n",
       "      <td>3.445289e+07</td>\n",
       "      <td>68585.077307</td>\n",
       "      <td>9274.586035</td>\n",
       "      <td>229.198254</td>\n",
       "      <td>1.738188e+07</td>\n",
       "      <td>2001.845387</td>\n",
       "      <td>6.265586</td>\n",
       "      <td>6012.577307</td>\n",
       "    </tr>\n",
       "    <tr>\n",
       "      <th>4.0</th>\n",
       "      <td>1283.952830</td>\n",
       "      <td>1598.839623</td>\n",
       "      <td>165.113208</td>\n",
       "      <td>110.066038</td>\n",
       "      <td>430.188679</td>\n",
       "      <td>9523.641509</td>\n",
       "      <td>6.225460e+07</td>\n",
       "      <td>98728.858491</td>\n",
       "      <td>14133.235849</td>\n",
       "      <td>326.471698</td>\n",
       "      <td>4.184960e+07</td>\n",
       "      <td>2004.009434</td>\n",
       "      <td>6.187736</td>\n",
       "      <td>9510.952830</td>\n",
       "    </tr>\n",
       "    <tr>\n",
       "      <th>5.0</th>\n",
       "      <td>494.063898</td>\n",
       "      <td>577.169329</td>\n",
       "      <td>208.218850</td>\n",
       "      <td>116.362620</td>\n",
       "      <td>1478.030351</td>\n",
       "      <td>10445.233227</td>\n",
       "      <td>9.821740e+07</td>\n",
       "      <td>172186.565495</td>\n",
       "      <td>16045.864217</td>\n",
       "      <td>474.744409</td>\n",
       "      <td>7.935157e+07</td>\n",
       "      <td>2004.726837</td>\n",
       "      <td>6.440256</td>\n",
       "      <td>12400.848243</td>\n",
       "    </tr>\n",
       "  </tbody>\n",
       "</table>\n",
       "</div>"
      ],
      "text/plain": [
       "             level_0        index  num_critic_for_reviews    duration  \\\n",
       "cluster                                                                 \n",
       "0.0      2938.271067  4069.710674              105.839261  100.140732   \n",
       "1.0      1305.565693  1589.489051              156.218978  111.272506   \n",
       "2.0       372.899563   445.877729              282.624454  121.624454   \n",
       "3.0      2166.402743  2770.534913              124.852868  104.483791   \n",
       "4.0      1283.952830  1598.839623              165.113208  110.066038   \n",
       "5.0       494.063898   577.169329              208.218850  116.362620   \n",
       "\n",
       "         director_facebook_likes  actor_1_facebook_likes         gross  \\\n",
       "cluster                                                                  \n",
       "0.0                   571.476124             4743.522472  2.506723e+07   \n",
       "1.0                   910.266423             9117.416058  4.944791e+07   \n",
       "2.0                  1122.947598            12614.375546  1.488371e+08   \n",
       "3.0                   662.047382             6319.615960  3.445289e+07   \n",
       "4.0                   430.188679             9523.641509  6.225460e+07   \n",
       "5.0                  1478.030351            10445.233227  9.821740e+07   \n",
       "\n",
       "         num_voted_users  cast_total_facebook_likes  num_user_for_reviews  \\\n",
       "cluster                                                                     \n",
       "0.0         45452.838483                6872.898876            188.294622   \n",
       "1.0         95822.373479               13074.136253            285.908759   \n",
       "2.0        223617.305677               21090.475983            678.218341   \n",
       "3.0         68585.077307                9274.586035            229.198254   \n",
       "4.0         98728.858491               14133.235849            326.471698   \n",
       "5.0        172186.565495               16045.864217            474.744409   \n",
       "\n",
       "               budget   title_year  imdb_score  movie_facebook_likes  \n",
       "cluster                                                               \n",
       "0.0      9.794446e+06  2000.992978    6.280337           4329.168539  \n",
       "1.0      3.315570e+07  2003.400243    6.351338           7809.074209  \n",
       "2.0      1.226592e+08  2007.034934    6.537555          26764.737991  \n",
       "3.0      1.738188e+07  2001.845387    6.265586           6012.577307  \n",
       "4.0      4.184960e+07  2004.009434    6.187736           9510.952830  \n",
       "5.0      7.935157e+07  2004.726837    6.440256          12400.848243  "
      ]
     },
     "execution_count": 681,
     "metadata": {},
     "output_type": "execute_result"
    }
   ],
   "source": [
    "df2.groupby('cluster').mean()"
   ]
  },
  {
   "cell_type": "markdown",
   "metadata": {},
   "source": [
    "## there are a lot of interesting things when we look at the averages above. first when you look at cluster two you will notice that the number of critics reviews is much higher. then when you compare this to the imdb scores you see that cluster two has the highest scores. Cluster two also has the most facebook likes of any cluster as well. The average duration for cluster 2 is 120 which is right at two hours which is also the longest. "
   ]
  },
  {
   "cell_type": "code",
   "execution_count": 683,
   "metadata": {
    "slideshow": {
     "slide_type": "slide"
    }
   },
   "outputs": [
    {
     "data": {
      "text/plain": [
       "cluster\n",
       "0.0    6.280337\n",
       "1.0    6.351338\n",
       "2.0    6.537555\n",
       "3.0    6.265586\n",
       "4.0    6.187736\n",
       "5.0    6.440256\n",
       "Name: imdb_score, dtype: float64"
      ]
     },
     "execution_count": 683,
     "metadata": {},
     "output_type": "execute_result"
    }
   ],
   "source": [
    "dfmean['imdb_score']"
   ]
  },
  {
   "cell_type": "code",
   "execution_count": 684,
   "metadata": {
    "slideshow": {
     "slide_type": "slide"
    }
   },
   "outputs": [
    {
     "data": {
      "text/plain": [
       "<seaborn.axisgrid.FacetGrid at 0x1c24fe99e8>"
      ]
     },
     "execution_count": 684,
     "metadata": {},
     "output_type": "execute_result"
    },
    {
     "data": {
      "image/png": "[encoded data removed]",
      "text/plain": [
       "<Figure size 360x360 with 1 Axes>"
      ]
     },
     "metadata": {
      "needs_background": "light"
     },
     "output_type": "display_data"
    }
   ],
   "source": [
    "sns.lmplot(\"cluster\", \"imdb_score\", df2, x_jitter=.15, y_jitter=.15)"
   ]
  },
  {
   "cell_type": "code",
   "execution_count": 685,
   "metadata": {
    "slideshow": {
     "slide_type": "slide"
    }
   },
   "outputs": [
    {
     "data": {
      "text/plain": [
       "cluster\n",
       "0.0    100.140732\n",
       "1.0    111.272506\n",
       "2.0    121.624454\n",
       "3.0    104.483791\n",
       "4.0    110.066038\n",
       "5.0    116.362620\n",
       "Name: duration, dtype: float64"
      ]
     },
     "execution_count": 685,
     "metadata": {},
     "output_type": "execute_result"
    }
   ],
   "source": [
    "dfmean['duration']"
   ]
  },
  {
   "cell_type": "code",
   "execution_count": 686,
   "metadata": {
    "scrolled": true,
    "slideshow": {
     "slide_type": "slide"
    }
   },
   "outputs": [
    {
     "data": {
      "text/plain": [
       "<seaborn.axisgrid.FacetGrid at 0x1c239a3e80>"
      ]
     },
     "execution_count": 686,
     "metadata": {},
     "output_type": "execute_result"
    },
    {
     "data": {
      "image/png": "[encoded data removed]",
      "text/plain": [
       "<Figure size 360x360 with 1 Axes>"
      ]
     },
     "metadata": {
      "needs_background": "light"
     },
     "output_type": "display_data"
    }
   ],
   "source": [
    "sns.lmplot(\"cluster\", \"duration\", df2, x_jitter=.15, y_jitter=.15)"
   ]
  },
  {
   "cell_type": "code",
   "execution_count": 687,
   "metadata": {
    "slideshow": {
     "slide_type": "skip"
    }
   },
   "outputs": [
    {
     "name": "stdout",
     "output_type": "stream",
     "text": [
      "<class 'pandas.core.frame.DataFrame'>\n",
      "Int64Index: 3175 entries, 0 to 3296\n",
      "Data columns (total 16 columns):\n",
      "level_0                      3175 non-null int64\n",
      "index                        3175 non-null int64\n",
      "num_critic_for_reviews       3175 non-null float64\n",
      "duration                     3175 non-null float64\n",
      "director_facebook_likes      3175 non-null float64\n",
      "actor_1_facebook_likes       3175 non-null float64\n",
      "gross                        3175 non-null float64\n",
      "num_voted_users              3175 non-null int64\n",
      "cast_total_facebook_likes    3175 non-null int64\n",
      "num_user_for_reviews         3175 non-null float64\n",
      "budget                       3175 non-null float64\n",
      "title_year                   3175 non-null float64\n",
      "imdb_score                   3175 non-null float64\n",
      "movie_facebook_likes         3175 non-null int64\n",
      "imdbscore_category           3175 non-null category\n",
      "cluster                      3175 non-null float64\n",
      "dtypes: category(1), float64(10), int64(5)\n",
      "memory usage: 400.2 KB\n"
     ]
    }
   ],
   "source": [
    "df2 = df2.dropna()\n",
    "df2 = df2.drop(['director_name', 'genres', 'actor_1_name', 'movie_title', 'language', 'country', 'content_rating'], axis = 1)\n",
    "df2.info()\n",
    "\n"
   ]
  },
  {
   "cell_type": "code",
   "execution_count": 703,
   "metadata": {
    "slideshow": {
     "slide_type": "-"
    }
   },
   "outputs": [
    {
     "data": {
      "text/html": [
       "<div>\n",
       "<style scoped>\n",
       "    .dataframe tbody tr th:only-of-type {\n",
       "        vertical-align: middle;\n",
       "    }\n",
       "\n",
       "    .dataframe tbody tr th {\n",
       "        vertical-align: top;\n",
       "    }\n",
       "\n",
       "    .dataframe thead th {\n",
       "        text-align: right;\n",
       "    }\n",
       "</style>\n",
       "<table border=\"1\" class=\"dataframe\">\n",
       "  <thead>\n",
       "    <tr style=\"text-align: right;\">\n",
       "      <th></th>\n",
       "      <th>level_0</th>\n",
       "      <th>index</th>\n",
       "      <th>num_critic_for_reviews</th>\n",
       "      <th>duration</th>\n",
       "      <th>director_facebook_likes</th>\n",
       "      <th>actor_1_facebook_likes</th>\n",
       "      <th>gross</th>\n",
       "      <th>num_voted_users</th>\n",
       "      <th>cast_total_facebook_likes</th>\n",
       "      <th>num_user_for_reviews</th>\n",
       "      <th>budget</th>\n",
       "      <th>title_year</th>\n",
       "      <th>imdb_score</th>\n",
       "      <th>movie_facebook_likes</th>\n",
       "    </tr>\n",
       "  </thead>\n",
       "  <tbody>\n",
       "    <tr>\n",
       "      <th>0</th>\n",
       "      <td>0</td>\n",
       "      <td>0</td>\n",
       "      <td>723.0</td>\n",
       "      <td>178.0</td>\n",
       "      <td>0.0</td>\n",
       "      <td>1000.0</td>\n",
       "      <td>760505847.0</td>\n",
       "      <td>886204</td>\n",
       "      <td>4834</td>\n",
       "      <td>3054.0</td>\n",
       "      <td>237000000.0</td>\n",
       "      <td>2009.0</td>\n",
       "      <td>7.9</td>\n",
       "      <td>33000</td>\n",
       "    </tr>\n",
       "  </tbody>\n",
       "</table>\n",
       "</div>"
      ],
      "text/plain": [
       "   level_0  index  num_critic_for_reviews  duration  director_facebook_likes  \\\n",
       "0        0      0                   723.0     178.0                      0.0   \n",
       "\n",
       "   actor_1_facebook_likes        gross  num_voted_users  \\\n",
       "0                  1000.0  760505847.0           886204   \n",
       "\n",
       "   cast_total_facebook_likes  num_user_for_reviews       budget  title_year  \\\n",
       "0                       4834                3054.0  237000000.0      2009.0   \n",
       "\n",
       "   imdb_score  movie_facebook_likes  \n",
       "0         7.9                 33000  "
      ]
     },
     "execution_count": 703,
     "metadata": {},
     "output_type": "execute_result"
    }
   ],
   "source": [
    "y = df2['cluster'].values\n",
    "X = df2.drop(['cluster',], axis=1)\n",
    "X.head(1)\n"
   ]
  },
  {
   "cell_type": "code",
   "execution_count": 704,
   "metadata": {
    "slideshow": {
     "slide_type": "-"
    }
   },
   "outputs": [
    {
     "data": {
      "text/plain": [
       "1.0"
      ]
     },
     "execution_count": 704,
     "metadata": {},
     "output_type": "execute_result"
    }
   ],
   "source": [
    "from sklearn.tree import DecisionTreeClassifier\n",
    "# instantiate a decision tree model, and fit with X and y\n",
    "model = DecisionTreeClassifier()\n",
    "\n",
    "model = model.fit(X, y)    \n",
    "\n",
    "model.score(X, y)"
   ]
  },
  {
   "cell_type": "code",
   "execution_count": 705,
   "metadata": {
    "slideshow": {
     "slide_type": "-"
    }
   },
   "outputs": [
    {
     "name": "stdout",
     "output_type": "stream",
     "text": [
      "[2. 2. 2. ... 0. 0. 0.]\n"
     ]
    }
   ],
   "source": [
    "predicted_Y = model.predict(X)\n",
    "print (predicted_Y)"
   ]
  },
  {
   "cell_type": "code",
   "execution_count": 706,
   "metadata": {
    "slideshow": {
     "slide_type": "-"
    }
   },
   "outputs": [
    {
     "data": {
      "text/plain": [
       "0.9952755905511811"
      ]
     },
     "execution_count": 706,
     "metadata": {},
     "output_type": "execute_result"
    }
   ],
   "source": [
    "from sklearn.ensemble import RandomForestClassifier\n",
    "clf = RandomForestClassifier(n_estimators=20)    \n",
    "clf=clf.fit(X, y)\n",
    "clf.score(X,y)"
   ]
  },
  {
   "cell_type": "markdown",
   "metadata": {},
   "source": [
    "## these are showing the importance factor of each variable "
   ]
  },
  {
   "cell_type": "code",
   "execution_count": 692,
   "metadata": {
    "slideshow": {
     "slide_type": "slide"
    }
   },
   "outputs": [
    {
     "data": {
      "text/html": [
       "<div>\n",
       "<style scoped>\n",
       "    .dataframe tbody tr th:only-of-type {\n",
       "        vertical-align: middle;\n",
       "    }\n",
       "\n",
       "    .dataframe tbody tr th {\n",
       "        vertical-align: top;\n",
       "    }\n",
       "\n",
       "    .dataframe thead th {\n",
       "        text-align: right;\n",
       "    }\n",
       "</style>\n",
       "<table border=\"1\" class=\"dataframe\">\n",
       "  <thead>\n",
       "    <tr style=\"text-align: right;\">\n",
       "      <th></th>\n",
       "      <th>feature</th>\n",
       "      <th>importance</th>\n",
       "    </tr>\n",
       "  </thead>\n",
       "  <tbody>\n",
       "    <tr>\n",
       "      <th>0</th>\n",
       "      <td>level_0</td>\n",
       "      <td>0.345196</td>\n",
       "    </tr>\n",
       "    <tr>\n",
       "      <th>1</th>\n",
       "      <td>index</td>\n",
       "      <td>0.278220</td>\n",
       "    </tr>\n",
       "    <tr>\n",
       "      <th>2</th>\n",
       "      <td>num_critic_for_reviews</td>\n",
       "      <td>0.022283</td>\n",
       "    </tr>\n",
       "    <tr>\n",
       "      <th>3</th>\n",
       "      <td>duration</td>\n",
       "      <td>0.020474</td>\n",
       "    </tr>\n",
       "    <tr>\n",
       "      <th>4</th>\n",
       "      <td>director_facebook_likes</td>\n",
       "      <td>0.016535</td>\n",
       "    </tr>\n",
       "    <tr>\n",
       "      <th>5</th>\n",
       "      <td>actor_1_facebook_likes</td>\n",
       "      <td>0.016355</td>\n",
       "    </tr>\n",
       "    <tr>\n",
       "      <th>6</th>\n",
       "      <td>gross</td>\n",
       "      <td>0.037594</td>\n",
       "    </tr>\n",
       "    <tr>\n",
       "      <th>7</th>\n",
       "      <td>num_voted_users</td>\n",
       "      <td>0.026739</td>\n",
       "    </tr>\n",
       "    <tr>\n",
       "      <th>8</th>\n",
       "      <td>cast_total_facebook_likes</td>\n",
       "      <td>0.021555</td>\n",
       "    </tr>\n",
       "    <tr>\n",
       "      <th>9</th>\n",
       "      <td>num_user_for_reviews</td>\n",
       "      <td>0.024489</td>\n",
       "    </tr>\n",
       "    <tr>\n",
       "      <th>10</th>\n",
       "      <td>budget</td>\n",
       "      <td>0.145738</td>\n",
       "    </tr>\n",
       "    <tr>\n",
       "      <th>11</th>\n",
       "      <td>title_year</td>\n",
       "      <td>0.016904</td>\n",
       "    </tr>\n",
       "    <tr>\n",
       "      <th>12</th>\n",
       "      <td>imdb_score</td>\n",
       "      <td>0.017335</td>\n",
       "    </tr>\n",
       "    <tr>\n",
       "      <th>13</th>\n",
       "      <td>movie_facebook_likes</td>\n",
       "      <td>0.010582</td>\n",
       "    </tr>\n",
       "  </tbody>\n",
       "</table>\n",
       "</div>"
      ],
      "text/plain": [
       "                      feature  importance\n",
       "0                     level_0    0.345196\n",
       "1                       index    0.278220\n",
       "2      num_critic_for_reviews    0.022283\n",
       "3                    duration    0.020474\n",
       "4     director_facebook_likes    0.016535\n",
       "5      actor_1_facebook_likes    0.016355\n",
       "6                       gross    0.037594\n",
       "7             num_voted_users    0.026739\n",
       "8   cast_total_facebook_likes    0.021555\n",
       "9        num_user_for_reviews    0.024489\n",
       "10                     budget    0.145738\n",
       "11                 title_year    0.016904\n",
       "12                 imdb_score    0.017335\n",
       "13       movie_facebook_likes    0.010582"
      ]
     },
     "execution_count": 692,
     "metadata": {},
     "output_type": "execute_result"
    }
   ],
   "source": [
    "pd.DataFrame({'feature':X.columns, 'importance':clf.feature_importances_})"
   ]
  },
  {
   "cell_type": "code",
   "execution_count": 693,
   "metadata": {},
   "outputs": [
    {
     "data": {
      "text/plain": [
       "array([1, 1, 1, ..., 0, 0, 0])"
      ]
     },
     "execution_count": 693,
     "metadata": {},
     "output_type": "execute_result"
    }
   ],
   "source": [
    "np.random.seed(1) # setting random seed to get the same results each time.\n",
    "\n",
    "agg= AgglomerativeClustering(n_clusters=2, linkage='ward').fit(X) #'ward' is hierarchical algorithm\n",
    "agg.labels_"
   ]
  },
  {
   "cell_type": "code",
   "execution_count": 694,
   "metadata": {
    "slideshow": {
     "slide_type": "-"
    }
   },
   "outputs": [
    {
     "data": {
      "image/png": "[encoded data removed]",
      "text/plain": [
       "<Figure size 1152x576 with 1 Axes>"
      ]
     },
     "metadata": {
      "needs_background": "light"
     },
     "output_type": "display_data"
    }
   ],
   "source": [
    "plt.figure(figsize=(16,8))\n",
    "\n",
    "linkage_matrix = ward(X)\n",
    "dendrogram(linkage_matrix, orientation=\"left\")\n",
    "plt.tight_layout() "
   ]
  },
  {
   "cell_type": "code",
   "execution_count": 695,
   "metadata": {
    "slideshow": {
     "slide_type": "-"
    }
   },
   "outputs": [
    {
     "data": {
      "image/png": "[encoded data removed]",
      "text/plain": [
       "<Figure size 1152x576 with 1 Axes>"
      ]
     },
     "metadata": {
      "needs_background": "light"
     },
     "output_type": "display_data"
    }
   ],
   "source": [
    "plt.figure(figsize=(16,8))\n",
    "\n",
    "plt.title('Hierarchical Clustering Dendrogram (truncated)')\n",
    "plt.xlabel('sample index or (cluster size)')\n",
    "plt.ylabel('distance')\n",
    "\n",
    "linkage_matrix = ward(X)\n",
    "dendrogram(linkage_matrix, \n",
    "           truncate_mode='lastp',  # show only the last p merged clusters\n",
    "           p=2,  # show only the last p merged clusters\n",
    "           #show_leaf_counts=False,  # otherwise numbers in brackets are counts\n",
    "           leaf_rotation=90.,\n",
    "           leaf_font_size=12.,\n",
    "           show_contracted=True,  # to get a distribution impression in truncated branches\n",
    "           orientation=\"top\")\n",
    "plt.tight_layout() # fixes margins"
   ]
  },
  {
   "cell_type": "code",
   "execution_count": null,
   "metadata": {},
   "outputs": [],
   "source": []
  },
  {
   "cell_type": "markdown",
   "metadata": {
    "slideshow": {
     "slide_type": "slide"
    }
   },
   "source": [
    "# Story telling "
   ]
  },
  {
   "cell_type": "markdown",
   "metadata": {
    "slideshow": {
     "slide_type": "slide"
    }
   },
   "source": [
    "## this is very interesting data. most of my models had very low R-Squareds which would indictate that we need more or diffrent data to work with. the data that I did use though showed both similaities and diffreneces to my mid term project. In particular one thing I found very interesting was that when looking at clustering of the imdb score the average for this is a good moive or a score between 6 and 8. This is interesting because I think it tells us that Hollywood and the movie executives are actually doing a pretty good job to began with. "
   ]
  },
  {
   "cell_type": "markdown",
   "metadata": {
    "slideshow": {
     "slide_type": "slide"
    }
   },
   "source": [
    "## Basicallly if you want to have a successful movie the first driver that I would look at is social media interactions. My models showed that when trying to predict if a movie is going to have sucsess this is a very important factor. I also think this makes sense because if it is getting a lot of interactions on social media that means a lot of people are aware of the movie. I would advise movie studios to invest heavly in socail media and try to drive interactions with movie goers through social media.   "
   ]
  },
  {
   "cell_type": "markdown",
   "metadata": {
    "slideshow": {
     "slide_type": "slide"
    }
   },
   "source": [
    "## The second factor I found interesting was the duration was a key part in determining if a movie would be successful for not. This is the same as my predictions in my midterm. I think this makes sense because as a film studio you need to hit the sweet spot. To short and people will not justify buying the ticket to go and see it and it actually has a negative effect because people do not what to spend three hours in a movie theater. Based off the Clustering data I would say that the sweet spot is bewteen 90 and 120 minutes. "
   ]
  },
  {
   "cell_type": "markdown",
   "metadata": {
    "slideshow": {
     "slide_type": "slide"
    }
   },
   "source": [
    "## I believe that if you combine both duration and social media interaction then you will have a good change of predicting wheather or not a movie will indeed be successful or if it will be a bust"
   ]
  },
  {
   "cell_type": "code",
   "execution_count": null,
   "metadata": {},
   "outputs": [],
   "source": [
    "conda install -c conda-forge rise"
   ]
  },
  {
   "cell_type": "code",
   "execution_count": null,
   "metadata": {},
   "outputs": [],
   "source": []
  }
 ],
 "metadata": {
  "celltoolbar": "Slideshow",
  "kernelspec": {
   "display_name": "Python 3",
   "language": "python",
   "name": "python3"
  },
  "language_info": {
   "codemirror_mode": {
    "name": "ipython",
    "version": 3
   },
   "file_extension": ".py",
   "mimetype": "text/x-python",
   "name": "python",
   "nbconvert_exporter": "python",
   "pygments_lexer": "ipython3",
   "version": "3.7.3"
  }
 },
 "nbformat": 4,
 "nbformat_minor": 2
}
